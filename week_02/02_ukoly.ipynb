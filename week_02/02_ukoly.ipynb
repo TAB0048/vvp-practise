{
 "cells": [
  {
   "attachments": {},
   "cell_type": "markdown",
   "metadata": {},
   "source": [
    "# Úlohy:\n",
    "\n",
    "## Proměnné a datové typy:\n"
   ]
  },
  {
   "cell_type": "markdown",
   "metadata": {},
   "source": [
    "1. Deklarujte proměnnou s názvem ``jmeno`` a přiřaďte jí řetězec s vaším jménem.\n"
   ]
  },
  {
   "cell_type": "code",
   "execution_count": 106,
   "metadata": {},
   "outputs": [],
   "source": [
    "jmeno = \"Alexandr\""
   ]
  },
  {
   "cell_type": "markdown",
   "metadata": {},
   "source": [
    "\n",
    "2. Vytiskněte typ proměnné ``jmeno``.\n"
   ]
  },
  {
   "cell_type": "code",
   "execution_count": 107,
   "metadata": {},
   "outputs": [
    {
     "name": "stdout",
     "output_type": "stream",
     "text": [
      "<class 'str'>\n"
     ]
    }
   ],
   "source": [
    "print(type(jmeno))"
   ]
  },
  {
   "cell_type": "markdown",
   "metadata": {},
   "source": [
    "\n",
    "3. Deklarujte proměnnou ``vek`` a přiřaďte jí vaše číslo věku. Jaký typ bude mít tato proměnná?\n"
   ]
  },
  {
   "cell_type": "code",
   "execution_count": 108,
   "metadata": {},
   "outputs": [
    {
     "name": "stdout",
     "output_type": "stream",
     "text": [
      "<class 'int'>\n"
     ]
    }
   ],
   "source": [
    "vek = 20\n",
    "# the variable will be int, we will check it using type\n",
    "print(type(vek))"
   ]
  },
  {
   "cell_type": "markdown",
   "metadata": {},
   "source": [
    "\n",
    "4. Převeďte ``vek`` na typ float a uložte do nové proměnné ``vek_float``.\n"
   ]
  },
  {
   "cell_type": "code",
   "execution_count": 109,
   "metadata": {},
   "outputs": [],
   "source": [
    "vek_float = float(vek)"
   ]
  },
  {
   "cell_type": "markdown",
   "metadata": {},
   "source": [
    "\n",
    "5. Vytiskněte hodnoty ``vek`` a ``vek_float``.\n"
   ]
  },
  {
   "cell_type": "code",
   "execution_count": 110,
   "metadata": {},
   "outputs": [
    {
     "name": "stdout",
     "output_type": "stream",
     "text": [
      "20 20.0\n"
     ]
    }
   ],
   "source": [
    "print(vek, vek_float)"
   ]
  },
  {
   "cell_type": "markdown",
   "metadata": {},
   "source": [
    "\n",
    "6. Deklarujte proměnnou ``seznam`` a přiřaďte jí list s třemi čísly.\n"
   ]
  },
  {
   "cell_type": "code",
   "execution_count": 111,
   "metadata": {},
   "outputs": [],
   "source": [
    "seznam = [1, 2, 3]"
   ]
  },
  {
   "cell_type": "markdown",
   "metadata": {},
   "source": [
    "\n",
    "7. Vytiskněte druhý prvek z listu ``seznam``.\n"
   ]
  },
  {
   "cell_type": "code",
   "execution_count": 112,
   "metadata": {},
   "outputs": [
    {
     "name": "stdout",
     "output_type": "stream",
     "text": [
      "2\n"
     ]
    }
   ],
   "source": [
    "print(seznam[1])"
   ]
  },
  {
   "cell_type": "markdown",
   "metadata": {},
   "source": [
    "\n",
    "8. Přidejte na konec listu ``seznam`` další číslo.\n"
   ]
  },
  {
   "cell_type": "code",
   "execution_count": 113,
   "metadata": {},
   "outputs": [],
   "source": [
    "seznam.append(4)"
   ]
  },
  {
   "cell_type": "markdown",
   "metadata": {},
   "source": [
    "\n",
    "9. Vytiskněte délku listu ``seznam``.\n"
   ]
  },
  {
   "cell_type": "code",
   "execution_count": 114,
   "metadata": {},
   "outputs": [
    {
     "name": "stdout",
     "output_type": "stream",
     "text": [
      "4\n"
     ]
    }
   ],
   "source": [
    "print(len(seznam))"
   ]
  },
  {
   "cell_type": "markdown",
   "metadata": {},
   "source": [
    "\n",
    "10. Deklarujte proměnnou ``slovnik`` a přiřaďte jí slovník s páry klíč-hodnota, kde klíče budou řetězce \"jmeno\" a \"vek\" a hodnoty budou vaše jméno a věk.\n"
   ]
  },
  {
   "cell_type": "code",
   "execution_count": 115,
   "metadata": {},
   "outputs": [],
   "source": [
    "slovnik = {\"jmeno\": \"Alexandr\", \"vek\": 20}"
   ]
  },
  {
   "cell_type": "markdown",
   "metadata": {},
   "source": [
    "\n",
    "11. Vytiskněte hodnotu s klíčem \"jmeno\" ze slovníku ``slovnik``.\n"
   ]
  },
  {
   "cell_type": "code",
   "execution_count": 116,
   "metadata": {},
   "outputs": [
    {
     "name": "stdout",
     "output_type": "stream",
     "text": [
      "Alexandr\n"
     ]
    }
   ],
   "source": [
    "print(slovnik.get(\"jmeno\"))"
   ]
  },
  {
   "cell_type": "markdown",
   "metadata": {},
   "source": [
    "\n",
    "12. Přidejte do slovníku ``slovnik`` další pár klíč-hodnota, kde klíč bude \"mesto\" a hodnota bude vaše rodné město.\n"
   ]
  },
  {
   "cell_type": "code",
   "execution_count": 117,
   "metadata": {},
   "outputs": [],
   "source": [
    "slovnik[\"mesto\"] = \"Ostrava\""
   ]
  },
  {
   "cell_type": "markdown",
   "metadata": {},
   "source": [
    "\n",
    "13. Vytiskněte všechny klíče ze slovníku ``slovnik``.\n"
   ]
  },
  {
   "cell_type": "code",
   "execution_count": 118,
   "metadata": {},
   "outputs": [
    {
     "name": "stdout",
     "output_type": "stream",
     "text": [
      "dict_keys(['jmeno', 'vek', 'mesto'])\n"
     ]
    }
   ],
   "source": [
    "print(slovnik.keys())"
   ]
  },
  {
   "cell_type": "markdown",
   "metadata": {},
   "source": [
    "\n",
    "14. Deklarujte proměnnou ``cislo`` a přiřaďte jí řetězec s číslem \"5\".\n"
   ]
  },
  {
   "cell_type": "code",
   "execution_count": 119,
   "metadata": {},
   "outputs": [],
   "source": [
    "cislo = \"5\""
   ]
  },
  {
   "cell_type": "markdown",
   "metadata": {},
   "source": [
    "\n",
    "15. Převodte ``cislo`` na typ int a uložte do nové proměnné ``cislo_int``.\n"
   ]
  },
  {
   "cell_type": "code",
   "execution_count": 120,
   "metadata": {},
   "outputs": [],
   "source": [
    "cislo_int = int(cislo)"
   ]
  },
  {
   "cell_type": "markdown",
   "metadata": {},
   "source": [
    "\n",
    "16. Vytiskněte hodnoty ``cislo`` a ``cislo_int``.\n"
   ]
  },
  {
   "cell_type": "code",
   "execution_count": 121,
   "metadata": {},
   "outputs": [
    {
     "name": "stdout",
     "output_type": "stream",
     "text": [
      "5 5\n"
     ]
    }
   ],
   "source": [
    "print(cislo, cislo_int)"
   ]
  },
  {
   "cell_type": "markdown",
   "metadata": {},
   "source": [
    "\n",
    "17. Deklarujte proměnnou ``boolean`` a přiřaďte jí hodnotu True.\n"
   ]
  },
  {
   "cell_type": "code",
   "execution_count": 122,
   "metadata": {},
   "outputs": [],
   "source": [
    "boolean = True"
   ]
  },
  {
   "cell_type": "markdown",
   "metadata": {},
   "source": [
    "\n",
    "18. Vytiskněte typ proměnné ``boolean``.\n"
   ]
  },
  {
   "cell_type": "code",
   "execution_count": 123,
   "metadata": {},
   "outputs": [
    {
     "name": "stdout",
     "output_type": "stream",
     "text": [
      "<class 'bool'>\n"
     ]
    }
   ],
   "source": [
    "print(type(boolean))"
   ]
  },
  {
   "cell_type": "markdown",
   "metadata": {},
   "source": [
    "\n",
    "19. Deklarujte proměnnou ``prazdny_list`` a přiřaďte jí prázdný list.\n"
   ]
  },
  {
   "cell_type": "code",
   "execution_count": 124,
   "metadata": {},
   "outputs": [],
   "source": [
    "prazdny_list = []"
   ]
  },
  {
   "cell_type": "markdown",
   "metadata": {},
   "source": [
    "\n",
    "20. Vytiskněte typ proměnné ``prazdny_list``.\n"
   ]
  },
  {
   "cell_type": "code",
   "execution_count": 125,
   "metadata": {},
   "outputs": [
    {
     "name": "stdout",
     "output_type": "stream",
     "text": [
      "<class 'list'>\n"
     ]
    }
   ],
   "source": [
    "print(type(prazdny_list))"
   ]
  },
  {
   "cell_type": "markdown",
   "metadata": {},
   "source": [
    "\n",
    "21. Deklarujte proměnnou ``cislo1`` a přiřaďte jí číslo 5. Deklarujte proměnnou ``cislo2`` a přiřaďte jí číslo 5. Zkontrolujte pomocí funkce ``id()``, zda se obě proměnné odkazují na stejný objekt.\n"
   ]
  },
  {
   "cell_type": "code",
   "execution_count": 126,
   "metadata": {},
   "outputs": [
    {
     "name": "stdout",
     "output_type": "stream",
     "text": [
      "Obe promenne odkazuji na stejny objekt, adresa je 140171990270320\n"
     ]
    }
   ],
   "source": [
    "cislo1 = 5\n",
    "cislo2 = 5\n",
    "\n",
    "if id(cislo1) == id(cislo2):\n",
    "    print(\"Obe promenne odkazuji na stejny objekt, adresa je\", id(cislo1))\n",
    "else: \n",
    "    print(\"Kazda odkazuje na jiny objekt, cislo1 je na\", id(cislo1), \", cislo2 na \", id(cislo2))"
   ]
  },
  {
   "cell_type": "markdown",
   "metadata": {},
   "source": [
    "\n",
    "22. Deklarujte proměnnou ``retezec1`` a přiřaďte jí řetězec \"ahoj\". Deklarujte proměnnou ``retezec2`` a přiřaďte jí řetězec \"ahoj\". Zkontrolujte pomocí funkce ``id()``, zda se obě proměnné odkazují na stejný objekt.\n"
   ]
  },
  {
   "cell_type": "code",
   "execution_count": 127,
   "metadata": {},
   "outputs": [
    {
     "name": "stdout",
     "output_type": "stream",
     "text": [
      "Obe promenne odkazuji na stejny objekt, adresa je 140171646994032\n"
     ]
    }
   ],
   "source": [
    "retezec1 = \"ahoj\"\n",
    "retezec2 = \"ahoj\"\n",
    "\n",
    "if id(retezec1) == id(retezec2):\n",
    "    print(\"Obe promenne odkazuji na stejny objekt, adresa je\", id(retezec1))\n",
    "else: \n",
    "    print(\"Kazda odkazuje na jiny objekt, retezec1 je na\", id(retezec1), \", retezec2 na \", id(retezec2))"
   ]
  },
  {
   "cell_type": "markdown",
   "metadata": {},
   "source": [
    "\n",
    "23. Deklarujte proměnnou ``seznam1`` a přiřaďte jí seznam [1, 2, 3]. Deklarujte proměnnou ``seznam2`` a přiřaďte jí seznam [1, 2, 3]. Zkontrolujte pomocí funkce ``id()``, zda se obě proměnné odkazují na stejný objekt.\n"
   ]
  },
  {
   "cell_type": "code",
   "execution_count": 128,
   "metadata": {},
   "outputs": [
    {
     "name": "stdout",
     "output_type": "stream",
     "text": [
      "Kazda odkazuje na jiny objekt, seznam1 je na 140171356007936 , seznam2 na 140171949048384\n"
     ]
    }
   ],
   "source": [
    "seznam1 = [1, 2, 3]\n",
    "seznam2 = [1, 2, 3]\n",
    "\n",
    "if id(seznam1) == id(seznam2):\n",
    "    print(\"Obe promenne odkazuji na stejny objekt, adresa je\", id(seznam1))\n",
    "else: \n",
    "    print(\"Kazda odkazuje na jiny objekt, seznam1 je na\", id(seznam1), \", seznam2 na\", id(seznam2))"
   ]
  },
  {
   "cell_type": "markdown",
   "metadata": {},
   "source": [
    "\n",
    "24. Deklarujte proměnnou ``slovnik1`` a přiřaďte jí slovník {\"jmeno\": \"Jan\", \"vek\": 30}. Deklarujte proměnnou ``slovnik2`` a přiřaďte jí ``slovnik1``. Zkontrolujte pomocí funkce ``id()``, zda se obě proměnné odkazují na stejný objekt.\n",
    "\n",
    "Modifikujte (přidáním záznamu) slovník ``slovnik1`` a zkontrolujte, zda se změna projeví i ve slovníku ``slovnik2``.\n"
   ]
  },
  {
   "cell_type": "code",
   "execution_count": 129,
   "metadata": {},
   "outputs": [
    {
     "name": "stdout",
     "output_type": "stream",
     "text": [
      "Obe promenne odkazuji na stejny objekt, adresa je 140171356000320\n",
      "{'jmeno': 'Jan', 'vek': 30, 'mesto': 'Ostrava'}\n",
      "{'jmeno': 'Jan', 'vek': 30, 'mesto': 'Ostrava'}\n"
     ]
    }
   ],
   "source": [
    "slovnik1 = {\"jmeno\": \"Jan\", \"vek\": 30}\n",
    "slovnik2 = slovnik1\n",
    "\n",
    "if id(slovnik1) == id(slovnik2):\n",
    "    print(\"Obe promenne odkazuji na stejny objekt, adresa je\", id(slovnik1))\n",
    "else: \n",
    "    print(\"Kazda odkazuje na jiny objekt, slovnik1 je na\", id(slovnik1), \", slovnik2 na\", id(slovnik2))\n",
    "\n",
    "# add new record\n",
    "slovnik1[\"mesto\"] = \"Ostrava\"\n",
    "\n",
    "print(slovnik1)\n",
    "print(slovnik2)"
   ]
  },
  {
   "cell_type": "markdown",
   "metadata": {},
   "source": [
    "\n",
    "25. Vytvořte list ``seznam`` s čísly 1, 2, 3, 4, 5. Pomocí slicingu z něj vytvořte nový seznam ``novy_seznam`` s pouze sudými čísly.\n",
    "\n"
   ]
  },
  {
   "cell_type": "code",
   "execution_count": 130,
   "metadata": {},
   "outputs": [
    {
     "name": "stdout",
     "output_type": "stream",
     "text": [
      "[2, 4]\n"
     ]
    }
   ],
   "source": [
    "seznam = [1, 2, 3, 4, 5]\n",
    "novy_seznam = seznam[1::2]\n",
    "print(novy_seznam)"
   ]
  },
  {
   "cell_type": "markdown",
   "metadata": {},
   "source": [
    "\n",
    "26. Pokud změníte prvek v listu ``novy_seznam`` z minulé úlohy, změní se i prvek v listu ``seznam``? "
   ]
  },
  {
   "cell_type": "code",
   "execution_count": 131,
   "metadata": {},
   "outputs": [
    {
     "name": "stdout",
     "output_type": "stream",
     "text": [
      "[1, 2, 3, 4, 5]\n",
      "[6, 4]\n"
     ]
    }
   ],
   "source": [
    "# probably not\n",
    "novy_seznam[0] = 6\n",
    "print(seznam)\n",
    "print(novy_seznam)"
   ]
  },
  {
   "cell_type": "markdown",
   "metadata": {},
   "source": [
    "\n",
    "27. Deklarujte proměnnou ``seznam`` a přiřaďte jí seznam [1, 2, 3]. Změňte hodnotu druhého prvku v seznamu ``seznam`` na 5. Ukažte, že změna hodnoty nemění ID objektu.\n"
   ]
  },
  {
   "cell_type": "code",
   "execution_count": 132,
   "metadata": {},
   "outputs": [
    {
     "name": "stdout",
     "output_type": "stream",
     "text": [
      "140171355982656\n",
      "140171355982656\n"
     ]
    }
   ],
   "source": [
    "seznam = [1, 2, 3]\n",
    "print(id(seznam))\n",
    "\n",
    "seznam[1] = 5\n",
    "print(id(seznam))"
   ]
  },
  {
   "cell_type": "markdown",
   "metadata": {},
   "source": [
    "\n",
    "28. Deklarujte proměnnou ``retezec`` a přiřaďte jí řetězec \"ahoj\". Zkuste změnit první písmeno řetězce na \"A\"."
   ]
  },
  {
   "cell_type": "code",
   "execution_count": 133,
   "metadata": {},
   "outputs": [
    {
     "ename": "TypeError",
     "evalue": "'str' object does not support item assignment",
     "output_type": "error",
     "traceback": [
      "\u001b[0;31m---------------------------------------------------------------------------\u001b[0m",
      "\u001b[0;31mTypeError\u001b[0m                                 Traceback (most recent call last)",
      "\u001b[0;32m/tmp/ipykernel_18962/547445609.py\u001b[0m in \u001b[0;36m<module>\u001b[0;34m\u001b[0m\n\u001b[1;32m      1\u001b[0m \u001b[0;31m# should throw an error\u001b[0m\u001b[0;34m\u001b[0m\u001b[0;34m\u001b[0m\u001b[0m\n\u001b[1;32m      2\u001b[0m \u001b[0mretezec\u001b[0m \u001b[0;34m=\u001b[0m \u001b[0;34m\"ahoj\"\u001b[0m\u001b[0;34m\u001b[0m\u001b[0;34m\u001b[0m\u001b[0m\n\u001b[0;32m----> 3\u001b[0;31m \u001b[0mretezec\u001b[0m\u001b[0;34m[\u001b[0m\u001b[0;36m0\u001b[0m\u001b[0;34m]\u001b[0m \u001b[0;34m=\u001b[0m \u001b[0;34m\"A\"\u001b[0m\u001b[0;34m\u001b[0m\u001b[0;34m\u001b[0m\u001b[0m\n\u001b[0m",
      "\u001b[0;31mTypeError\u001b[0m: 'str' object does not support item assignment"
     ]
    }
   ],
   "source": [
    "# should throw an error\n",
    "retezec = \"ahoj\"\n",
    "retezec[0] = \"A\""
   ]
  },
  {
   "attachments": {},
   "cell_type": "markdown",
   "metadata": {},
   "source": [
    "## Operátory:\n",
    "\n",
    "1. Vytvoř dvojice proměnných typů: int, float, str, bool, list. Postupně si ozkoušejte co dělají matematické operátory pro různé typy proměnných"
   ]
  },
  {
   "cell_type": "code",
   "execution_count": null,
   "metadata": {},
   "outputs": [
    {
     "name": "stdout",
     "output_type": "stream",
     "text": [
      "17 3 70 1.4285714285714286 3 1\n",
      "17.9 2.499999999999999 78.53999999999999 1.3246753246753245 2.499999999999999 1.0\n",
      "1 1 0\n",
      "[1, 2, 3, 4, 5, 6]\n",
      "helloworld\n"
     ]
    }
   ],
   "source": [
    "int_a = 10\n",
    "int_b = 7\n",
    "float_a = 10.2\n",
    "float_b = 7.7\n",
    "str_a = \"hello\"\n",
    "str_b = \"world\"\n",
    "bool_a = True\n",
    "bool_b = False\n",
    "list_a = [1, 2, 3]\n",
    "list_b = [4, 5, 6]\n",
    "\n",
    "print(int_a + int_b, int_a - int_b, int_a * int_b, int_a / int_b, int_a % int_b, int_a // int_b)\n",
    "print(float_a + float_b, float_a - float_b, float_a * float_b, float_a / float_b, float_a % float_b, float_a // float_b)\n",
    "print(bool_a + bool_b, bool_a - bool_b, bool_a * bool_b)\n",
    "print(list_a + list_b)\n",
    "print(str_a + str_b)\n"
   ]
  },
  {
   "cell_type": "markdown",
   "metadata": {},
   "source": [
    "3. Napište program, který spočítá absolutní hodnotu zadaného čísla (bez použití `abs()`, použíjte ternární operátor).\n"
   ]
  },
  {
   "cell_type": "code",
   "execution_count": null,
   "metadata": {},
   "outputs": [
    {
     "name": "stdout",
     "output_type": "stream",
     "text": [
      "5\n",
      "5\n",
      "12.5\n",
      "0.09\n"
     ]
    }
   ],
   "source": [
    "def abs_value(x):\n",
    "    return x if x >= 0 else -x\n",
    "\n",
    "print(abs_value(5))\n",
    "print(abs_value(-5))\n",
    "print(abs_value(-12.5))\n",
    "print(abs_value(-0.09))"
   ]
  },
  {
   "attachments": {},
   "cell_type": "markdown",
   "metadata": {},
   "source": [
    "\n",
    "## Klíčová slova a vestavěné funkce:\n",
    "\n",
    "1. Použij funkci `dir()` k zobrazení seznamu všech funkcí a proměnných pro různé typy/moduly."
   ]
  },
  {
   "cell_type": "code",
   "execution_count": null,
   "metadata": {},
   "outputs": [
    {
     "data": {
      "text/plain": [
       "['__doc__',\n",
       " '__loader__',\n",
       " '__name__',\n",
       " '__package__',\n",
       " '__spec__',\n",
       " 'acos',\n",
       " 'acosh',\n",
       " 'asin',\n",
       " 'asinh',\n",
       " 'atan',\n",
       " 'atan2',\n",
       " 'atanh',\n",
       " 'ceil',\n",
       " 'comb',\n",
       " 'copysign',\n",
       " 'cos',\n",
       " 'cosh',\n",
       " 'degrees',\n",
       " 'dist',\n",
       " 'e',\n",
       " 'erf',\n",
       " 'erfc',\n",
       " 'exp',\n",
       " 'expm1',\n",
       " 'fabs',\n",
       " 'factorial',\n",
       " 'floor',\n",
       " 'fmod',\n",
       " 'frexp',\n",
       " 'fsum',\n",
       " 'gamma',\n",
       " 'gcd',\n",
       " 'hypot',\n",
       " 'inf',\n",
       " 'isclose',\n",
       " 'isfinite',\n",
       " 'isinf',\n",
       " 'isnan',\n",
       " 'isqrt',\n",
       " 'lcm',\n",
       " 'ldexp',\n",
       " 'lgamma',\n",
       " 'log',\n",
       " 'log10',\n",
       " 'log1p',\n",
       " 'log2',\n",
       " 'modf',\n",
       " 'nan',\n",
       " 'nextafter',\n",
       " 'perm',\n",
       " 'pi',\n",
       " 'pow',\n",
       " 'prod',\n",
       " 'radians',\n",
       " 'remainder',\n",
       " 'sin',\n",
       " 'sinh',\n",
       " 'sqrt',\n",
       " 'tan',\n",
       " 'tanh',\n",
       " 'tau',\n",
       " 'trunc',\n",
       " 'ulp']"
      ]
     },
     "execution_count": 64,
     "metadata": {},
     "output_type": "execute_result"
    }
   ],
   "source": [
    "import math\n",
    "\n",
    "dir(list)\n",
    "dir(tuple)\n",
    "dir(str)\n",
    "dir(math)"
   ]
  },
  {
   "attachments": {},
   "cell_type": "markdown",
   "metadata": {},
   "source": [
    "## Funkce + Podmínky a cykly:\n",
    "\n",
    "1. Vytvoř funkci, která vrací faktoriál přirozeného čísla\n"
   ]
  },
  {
   "cell_type": "code",
   "execution_count": null,
   "metadata": {},
   "outputs": [
    {
     "name": "stdout",
     "output_type": "stream",
     "text": [
      "1\n",
      "1\n",
      "2\n",
      "6\n",
      "24\n",
      "120\n",
      "720\n"
     ]
    }
   ],
   "source": [
    "def factorial(x):\n",
    "    if x == 1 or x == 0:\n",
    "        return 1\n",
    "    else: \n",
    "        return x * factorial(x - 1)\n",
    "\n",
    "print(factorial(0))    \n",
    "print(factorial(1))\n",
    "print(factorial(2))\n",
    "print(factorial(3))\n",
    "print(factorial(4))\n",
    "print(factorial(5))\n",
    "print(factorial(6))"
   ]
  },
  {
   "cell_type": "markdown",
   "metadata": {},
   "source": [
    "2. Tutéž funkci napiš pomocí rekurze\n"
   ]
  },
  {
   "cell_type": "code",
   "execution_count": 138,
   "metadata": {},
   "outputs": [
    {
     "name": "stdout",
     "output_type": "stream",
     "text": [
      "0\n",
      "1\n",
      "2\n",
      "6\n",
      "24\n",
      "120\n"
     ]
    }
   ],
   "source": [
    "# I just did so I will do it without recursion now \n",
    "def factorial_no_rec(x):\n",
    "    if x == 0:\n",
    "        return 1\n",
    "    \n",
    "    for i in range(1, x):\n",
    "        x *= i\n",
    "    return x\n",
    "\n",
    "print(factorial_no_rec(0))\n",
    "print(factorial_no_rec(1))\n",
    "print(factorial_no_rec(2))\n",
    "print(factorial_no_rec(3))\n",
    "print(factorial_no_rec(4))\n",
    "print(factorial_no_rec(5))"
   ]
  },
  {
   "cell_type": "markdown",
   "metadata": {},
   "source": [
    "3. Vytvoř funkci, která vrací průměr čísel v listu\n"
   ]
  },
  {
   "cell_type": "code",
   "execution_count": null,
   "metadata": {},
   "outputs": [
    {
     "name": "stdout",
     "output_type": "stream",
     "text": [
      "3.5\n",
      "2.857142857142857\n",
      "-12.814285714285715\n"
     ]
    }
   ],
   "source": [
    "def average( list_a ):\n",
    "    sum = 0\n",
    "    for i in range( len(list_a) ):\n",
    "        sum += list_a[i]\n",
    "    return sum/len(list_a)\n",
    "\n",
    "list_a = [1, 2, 3, 4, 5, 6]\n",
    "list_b = [0, 0, 4, 0, 8, 9, -1]\n",
    "list_c = [-10, 15, 2.7, -9, -0.4, 12, -100]\n",
    "print( average(list_a) )\n",
    "print( average(list_b) )\n",
    "print( average(list_c) )"
   ]
  },
  {
   "cell_type": "markdown",
   "metadata": {},
   "source": [
    "4. Vytvoř funkci, která nalezne prvních n prvočísel"
   ]
  },
  {
   "cell_type": "code",
   "execution_count": null,
   "metadata": {},
   "outputs": [
    {
     "name": "stdout",
     "output_type": "stream",
     "text": [
      "[]\n",
      "[2]\n",
      "[2, 3]\n",
      "[2, 3, 5, 7, 11, 13]\n",
      "[2, 3, 5, 7, 11, 13, 17, 19, 23, 29]\n",
      "[2, 3, 5, 7, 11, 13, 17, 19, 23, 29, 31, 37, 41, 43, 47, 53, 59, 61, 67, 71]\n"
     ]
    }
   ],
   "source": [
    "import sympy\n",
    "\n",
    "def find_primes(n):\n",
    "    primes = []\n",
    "    idx = 2\n",
    "    while len(primes) != n:\n",
    "        if sympy.isprime(idx):\n",
    "            primes.append(idx)\n",
    "        idx += 1\n",
    "    return primes\n",
    "\n",
    "primes0 = find_primes(0)\n",
    "primes1 = find_primes(1)\n",
    "primes2 = find_primes(2)\n",
    "primes6 = find_primes(6)\n",
    "primes10 = find_primes(10)\n",
    "primes20 = find_primes(20)\n",
    "\n",
    "print( primes0 )\n",
    "print( primes1 )\n",
    "print( primes2 )\n",
    "print( primes6 )\n",
    "print( primes10 )\n",
    "print( primes20 )"
   ]
  },
  {
   "cell_type": "markdown",
   "metadata": {},
   "source": [
    "---\n",
    "# Ladění"
   ]
  },
  {
   "cell_type": "markdown",
   "metadata": {},
   "source": [
    "**Euklidův algoritmus pro výpočet největšího společného dělitele (NSD) dvou čísel**\n",
    "\n",
    "```Mějme dána dvě přirozená čísla, uložená v proměnných u a w.\n",
    "Dokud w není nulové, opakuj:\n",
    "  Do r ulož zbytek po dělení čísla u číslem w\n",
    "  Do u ulož w\n",
    "  Do w ulož r\n",
    "Konec algoritmu, v u je uložen největší společný dělitel původních čísel."
   ]
  },
  {
   "cell_type": "markdown",
   "metadata": {},
   "source": [
    "## Úkoly:\n",
    "\n",
    "- Dejte Breakpoint na řádek 3, spusťte buňku v debug módu a sledujte jak se mění hodnoty proměnných u a w (odkrokujte si celý algoritmus).\n",
    "\n",
    "- Vytvořte podmíněný breakpoint na řádku 5, který se zastaví až když bude w rovno 0.\n",
    "\n",
    "- Nastavte logovací breakpoint na řádek 5, který vypíše hodnoty proměnných u a w."
   ]
  },
  {
   "cell_type": "code",
   "execution_count": 137,
   "metadata": {},
   "outputs": [
    {
     "name": "stdout",
     "output_type": "stream",
     "text": [
      "60060\n",
      "2142\n"
     ]
    },
    {
     "data": {
      "text/plain": [
       "42"
      ]
     },
     "execution_count": 137,
     "metadata": {},
     "output_type": "execute_result"
    }
   ],
   "source": [
    "def gcd(a, b):\n",
    "    # Euklidův algoritmus pro výpočet největšího společného dělitele (NSD) dvou čísel\n",
    "    u = a\n",
    "    w = b\n",
    "    while w != 0:\n",
    "        r = u % w\n",
    "        u = w\n",
    "        w = r\n",
    "    return u\n",
    "\n",
    "\n",
    "a = 2 * 2 * 3 * 5 * 7 * 11 * 13\n",
    "b = 2 * 3 * 3 * 7 * 17\n",
    "\n",
    "print(a)\n",
    "print(b)\n",
    "\n",
    "gcd(a, b)"
   ]
  }
 ],
 "metadata": {
  "kernelspec": {
   "display_name": "Python 3",
   "language": "python",
   "name": "python3"
  },
  "language_info": {
   "codemirror_mode": {
    "name": "ipython",
    "version": 3
   },
   "file_extension": ".py",
   "mimetype": "text/x-python",
   "name": "python",
   "nbconvert_exporter": "python",
   "pygments_lexer": "ipython3",
   "version": "3.10.12"
  },
  "orig_nbformat": 4,
  "vscode": {
   "interpreter": {
    "hash": "e7370f93d1d0cde622a1f8e1c04877d8463912d04d973331ad4851f04de6915a"
   }
  }
 },
 "nbformat": 4,
 "nbformat_minor": 2
}
