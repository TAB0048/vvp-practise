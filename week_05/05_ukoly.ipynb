{
 "cells": [
  {
   "attachments": {},
   "cell_type": "markdown",
   "metadata": {},
   "source": [
    "# Úkoly\n",
    "\n",
    "## Ndarray\n",
    "1. Jak zjistit velikost paměti libovolného pole. Vyzkoušejte na `a = np.array([1, 2, 3])`. Ozkoušejte s různou specifikací datového typu (`dtype` např. `np.int32`, `np.float64`, `np.complex128`).\n"
   ]
  },
  {
   "cell_type": "code",
   "execution_count": 140,
   "metadata": {},
   "outputs": [
    {
     "name": "stdout",
     "output_type": "stream",
     "text": [
      "12\n",
      "24\n",
      "48\n",
      "96\n"
     ]
    }
   ],
   "source": [
    "import numpy as np\n",
    "\n",
    "a = np.array([1, 2, 3], dtype=np.int32)\n",
    "print(a.nbytes)\n",
    "a = np.array([1, 2, 3], dtype=np.float64)\n",
    "print(a.nbytes)\n",
    "a = np.array([1, 2, 3], dtype=np.complex128)\n",
    "print(a.nbytes)\n",
    "a = np.array([1, 2, 3], dtype=np.complex256)\n",
    "print(a.nbytes)"
   ]
  },
  {
   "cell_type": "markdown",
   "metadata": {},
   "source": [
    "\n",
    "2. Zjistěte rozměry, velikost v jednotlivých rozměrech a celkový počet prvků v poli `a`.\n"
   ]
  },
  {
   "cell_type": "code",
   "execution_count": 141,
   "metadata": {},
   "outputs": [
    {
     "name": "stdout",
     "output_type": "stream",
     "text": [
      "Dimensions = 1\n",
      "Size in all dimensions = (3,)\n",
      "Total number of elements = 3\n"
     ]
    }
   ],
   "source": [
    "print(f\"Dimensions = {a.ndim}\")\n",
    "print(f\"Size in all dimensions = {a.shape}\")\n",
    "print(f\"Total number of elements = {a.size}\")\n"
   ]
  },
  {
   "cell_type": "markdown",
   "metadata": {},
   "source": [
    "\n",
    "3. Zjistěte typ prvků v poli `a` a velikost jednoho prvku v bajtech.\n"
   ]
  },
  {
   "cell_type": "code",
   "execution_count": 142,
   "metadata": {},
   "outputs": [
    {
     "name": "stdout",
     "output_type": "stream",
     "text": [
      "Type = complex256\n",
      "Element size = 32\n"
     ]
    }
   ],
   "source": [
    "print(f\"Type = {a.dtype}\")\n",
    "print(f\"Element size = {a.itemsize}\")"
   ]
  },
  {
   "cell_type": "markdown",
   "metadata": {},
   "source": [
    "\n",
    "4. Vytvořte NumPy pole s názvem `b` o stejných rozměrech jako `a`, ale s typem `np.float32`.\n"
   ]
  },
  {
   "cell_type": "code",
   "execution_count": 143,
   "metadata": {},
   "outputs": [
    {
     "data": {
      "text/plain": [
       "array([1.e-45, 3.e-45, 4.e-45], dtype=float32)"
      ]
     },
     "execution_count": 143,
     "metadata": {},
     "output_type": "execute_result"
    }
   ],
   "source": [
    "b = np.ndarray(shape=a.shape, dtype=np.float32)\n",
    "b"
   ]
  },
  {
   "cell_type": "markdown",
   "metadata": {},
   "source": [
    "\n",
    "5. Přetypujte pole `a` na typ `np.float32` a uložte do pole `c`.\n"
   ]
  },
  {
   "cell_type": "code",
   "execution_count": 144,
   "metadata": {},
   "outputs": [
    {
     "name": "stderr",
     "output_type": "stream",
     "text": [
      "/tmp/ipykernel_6460/3829406383.py:1: ComplexWarning: Casting complex values to real discards the imaginary part\n",
      "  c = a.astype(np.float32)\n"
     ]
    },
    {
     "data": {
      "text/plain": [
       "array([1., 2., 3.], dtype=float32)"
      ]
     },
     "execution_count": 144,
     "metadata": {},
     "output_type": "execute_result"
    }
   ],
   "source": [
    "c = a.astype(np.float32)\n",
    "c"
   ]
  },
  {
   "cell_type": "markdown",
   "metadata": {},
   "source": [
    "\n",
    "6. Vytvořte pole `d` s typem `np.datetime64` a uložte do něj datum \"2023-12-01\".\n"
   ]
  },
  {
   "cell_type": "code",
   "execution_count": 145,
   "metadata": {},
   "outputs": [
    {
     "data": {
      "text/plain": [
       "array(['2023-12-01'], dtype='datetime64[D]')"
      ]
     },
     "execution_count": 145,
     "metadata": {},
     "output_type": "execute_result"
    }
   ],
   "source": [
    "d = np.array([\"2023-12-01\"], dtype=np.datetime64)\n",
    "d"
   ]
  },
  {
   "cell_type": "markdown",
   "metadata": {},
   "source": [
    "\n",
    "7. Vytvořte pole `e` s typem složeným ze dvou sloupců: `int32` a `string_` s maximální délkou 10 znaků.\n"
   ]
  },
  {
   "cell_type": "code",
   "execution_count": 146,
   "metadata": {},
   "outputs": [
    {
     "data": {
      "text/plain": [
       "array([(1075881911, b'\\xe0U'), (  84934656, b'v\\x01I\\x7f'),\n",
       "       (         0, b'`')], dtype=[('integer', '<i4'), ('string', 'S10')])"
      ]
     },
     "execution_count": 146,
     "metadata": {},
     "output_type": "execute_result"
    }
   ],
   "source": [
    "dt = np.dtype([(\"integer\", np.int32), (\"string\", np.string_, 10)])\n",
    "e = np.ndarray(shape=(3), dtype=dt)\n",
    "e"
   ]
  },
  {
   "cell_type": "markdown",
   "metadata": {},
   "source": [
    "\n",
    "8. Naplňte pole `e` hodnotami: `[(1, \"a\"), (2, \"b\"), (3, \"c\")]`.\n"
   ]
  },
  {
   "cell_type": "code",
   "execution_count": 147,
   "metadata": {},
   "outputs": [
    {
     "name": "stdout",
     "output_type": "stream",
     "text": [
      "[(1, b'a') (2, b'b') (3, b'c')]\n"
     ]
    }
   ],
   "source": [
    "e = np.array([(1, \"a\"), (2, \"b\"), (3, \"c\")], dtype=dt)\n",
    "print(e)"
   ]
  },
  {
   "cell_type": "markdown",
   "metadata": {},
   "source": [
    "\n",
    "9. Změňte hodnotu druhého prvku v druhém sloupci pole `e` na \"hello\".\n"
   ]
  },
  {
   "cell_type": "code",
   "execution_count": 148,
   "metadata": {},
   "outputs": [
    {
     "name": "stdout",
     "output_type": "stream",
     "text": [
      "[(1, b'a') (2, b'hello') (3, b'c')]\n"
     ]
    }
   ],
   "source": [
    "e[1][\"string\"] = \"hello\"\n",
    "print(e)"
   ]
  },
  {
   "cell_type": "markdown",
   "metadata": {},
   "source": [
    "## Vytváření polí\n",
    "1. Vytvořte matici samých jedniček o rozměrech 3x3. Vypište všechny její prvky."
   ]
  },
  {
   "cell_type": "code",
   "execution_count": 149,
   "metadata": {},
   "outputs": [
    {
     "name": "stdout",
     "output_type": "stream",
     "text": [
      "[[1. 1. 1.]\n",
      " [1. 1. 1.]\n",
      " [1. 1. 1.]]\n"
     ]
    }
   ],
   "source": [
    "A = np.ones((3,3))\n",
    "print(A)"
   ]
  },
  {
   "cell_type": "markdown",
   "metadata": {},
   "source": [
    "2. Vytvořte vektor s hodnotami od 10 do 49.\n"
   ]
  },
  {
   "cell_type": "code",
   "execution_count": 150,
   "metadata": {},
   "outputs": [
    {
     "name": "stdout",
     "output_type": "stream",
     "text": [
      "[10 11 12 13 14 15 16 17 18 19 20 21 22 23 24 25 26 27 28 29 30 31 32 33\n",
      " 34 35 36 37 38 39 40 41 42 43 44 45 46 47 48 49]\n"
     ]
    }
   ],
   "source": [
    "v = np.arange(10, 50, 1)\n",
    "print(v)"
   ]
  },
  {
   "cell_type": "markdown",
   "metadata": {},
   "source": [
    "3. Vytvořte pole 3x4 typu `bool` se všemi prvky `True`.\n"
   ]
  },
  {
   "cell_type": "code",
   "execution_count": 151,
   "metadata": {},
   "outputs": [
    {
     "name": "stdout",
     "output_type": "stream",
     "text": [
      "[[ True  True  True  True]\n",
      " [ True  True  True  True]\n",
      " [ True  True  True  True]]\n"
     ]
    }
   ],
   "source": [
    "B = np.full((3,4), True)\n",
    "print(B)"
   ]
  },
  {
   "cell_type": "markdown",
   "metadata": {},
   "source": [
    "4. Vytvořte matici 3x3 s hodnotami od 0 do 8.\n"
   ]
  },
  {
   "cell_type": "code",
   "execution_count": 152,
   "metadata": {},
   "outputs": [
    {
     "name": "stdout",
     "output_type": "stream",
     "text": [
      "[[0 1 2]\n",
      " [3 4 5]\n",
      " [6 7 8]]\n"
     ]
    }
   ],
   "source": [
    "values = np.arange(0, 9, 1)\n",
    "M = values.reshape((3,3))\n",
    "print(M)"
   ]
  },
  {
   "cell_type": "markdown",
   "metadata": {},
   "source": [
    "5. Vytvořte jednotkovou matici 3x3.\n"
   ]
  },
  {
   "cell_type": "code",
   "execution_count": 153,
   "metadata": {},
   "outputs": [
    {
     "name": "stdout",
     "output_type": "stream",
     "text": [
      "[[1 0 0]\n",
      " [0 1 0]\n",
      " [0 0 1]]\n",
      "[[1. 0. 0.]\n",
      " [0. 1. 0.]\n",
      " [0. 0. 1.]]\n"
     ]
    }
   ],
   "source": [
    "I = np.diagflat([1, 1, 1])\n",
    "print(I)\n",
    "# or maybe this could work too\n",
    "I = np.eye((3))\n",
    "print(I)"
   ]
  },
  {
   "cell_type": "markdown",
   "metadata": {},
   "source": [
    "6. Vytvořte pole 3x3x3 s náhodnými hodnotami.\n"
   ]
  },
  {
   "cell_type": "code",
   "execution_count": 154,
   "metadata": {},
   "outputs": [
    {
     "name": "stdout",
     "output_type": "stream",
     "text": [
      "[[[0.19318595 0.8654034  0.10983944]\n",
      "  [0.90375259 0.31511235 0.18792977]\n",
      "  [0.83971637 0.70345736 0.45866214]]\n",
      "\n",
      " [[0.42390238 0.70793565 0.46755018]\n",
      "  [0.77521324 0.16078588 0.25560714]\n",
      "  [0.53298058 0.67616577 0.58080819]]\n",
      "\n",
      " [[0.16456848 0.7198067  0.52520082]\n",
      "  [0.87666253 0.83100689 0.23178925]\n",
      "  [0.84524438 0.64549735 0.45544426]]]\n"
     ]
    }
   ],
   "source": [
    "R = np.random.rand(3,3,3)\n",
    "print(R)"
   ]
  },
  {
   "cell_type": "markdown",
   "metadata": {},
   "source": [
    "7. Vytvořte 2D pole s 1 na okraji a 0 uvnitř.\n"
   ]
  },
  {
   "cell_type": "code",
   "execution_count": 155,
   "metadata": {},
   "outputs": [
    {
     "name": "stdout",
     "output_type": "stream",
     "text": [
      "[[1. 1. 1. 1. 1. 1.]\n",
      " [1. 0. 0. 0. 0. 1.]\n",
      " [1. 0. 0. 0. 0. 1.]\n",
      " [1. 1. 1. 1. 1. 1.]]\n"
     ]
    }
   ],
   "source": [
    "C = np.ones((4, 6))\n",
    "C[1:-1, 1:-1] = 0\n",
    "print(C)"
   ]
  },
  {
   "cell_type": "markdown",
   "metadata": {},
   "source": [
    "8. Jak přidat okraj (vyplněný nulami) kolem existujícího pole?\n"
   ]
  },
  {
   "cell_type": "code",
   "execution_count": 156,
   "metadata": {},
   "outputs": [
    {
     "name": "stdout",
     "output_type": "stream",
     "text": [
      "[[0. 0. 0. 0. 0. 0. 0. 0.]\n",
      " [0. 1. 1. 1. 1. 1. 1. 0.]\n",
      " [0. 1. 0. 0. 0. 0. 1. 0.]\n",
      " [0. 1. 0. 0. 0. 0. 1. 0.]\n",
      " [0. 1. 1. 1. 1. 1. 1. 0.]\n",
      " [0. 0. 0. 0. 0. 0. 0. 0.]]\n"
     ]
    }
   ],
   "source": [
    "m, n = C.shape\n",
    "new_shape = (m + 2, n + 2)\n",
    "C_new = np.zeros(new_shape)\n",
    "C_new[1:-1, 1:-1] = C\n",
    "print(C_new)"
   ]
  },
  {
   "cell_type": "markdown",
   "metadata": {},
   "source": [
    "9. Vytvořte matici 5x5 kde jediné nenulová prvky jsou [1, 2, 3, 4] pod hlavní diagonálou (nápověda - podívejte se na nápovědu funkce `diagflat`).\n",
    "```\n",
    "0 0 0 0 0\n",
    "1 0 0 0 0\n",
    "0 2 0 0 0\n",
    "0 0 3 0 0 \n",
    "0 0 0 4 0\n",
    "```\n"
   ]
  },
  {
   "cell_type": "code",
   "execution_count": 157,
   "metadata": {},
   "outputs": [
    {
     "name": "stdout",
     "output_type": "stream",
     "text": [
      "[[0 0 0 0 0]\n",
      " [1 0 0 0 0]\n",
      " [0 2 0 0 0]\n",
      " [0 0 3 0 0]\n",
      " [0 0 0 4 0]]\n"
     ]
    }
   ],
   "source": [
    "#help(np.diagflat)\n",
    "print(np.diagflat([1, 2, 3, 4], -1))"
   ]
  },
  {
   "cell_type": "markdown",
   "metadata": {},
   "source": [
    "10. Z pole 8x8 samých nul vyvořte pomocí řezů co nejelegantnějším způsobem 8x8 matici, která vypadá jako šachovnice.\n",
    "```\n",
    "0 1 0 1 0 1 0 1\n",
    "1 0 1 0 1 0 1 0\n",
    "0 1 0 1 0 1 0 1\n",
    "1 0 1 0 1 0 1 0\n",
    "0 1 0 1 0 1 0 1\n",
    "1 0 1 0 1 0 1 0\n",
    "0 1 0 1 0 1 0 1\n",
    "1 0 1 0 1 0 1 0\n",
    "```\n"
   ]
  },
  {
   "cell_type": "code",
   "execution_count": 158,
   "metadata": {},
   "outputs": [
    {
     "name": "stdout",
     "output_type": "stream",
     "text": [
      "[[0. 1. 0. 1. 0. 1. 0. 1.]\n",
      " [1. 0. 1. 0. 1. 0. 1. 0.]\n",
      " [0. 1. 0. 1. 0. 1. 0. 1.]\n",
      " [1. 0. 1. 0. 1. 0. 1. 0.]\n",
      " [0. 1. 0. 1. 0. 1. 0. 1.]\n",
      " [1. 0. 1. 0. 1. 0. 1. 0.]\n",
      " [0. 1. 0. 1. 0. 1. 0. 1.]\n",
      " [1. 0. 1. 0. 1. 0. 1. 0.]]\n"
     ]
    }
   ],
   "source": [
    "X = np.zeros((8, 8))\n",
    "X[0::2, 1::2] = 1\n",
    "X[1::2, 0::2] = 1\n",
    "print(X)"
   ]
  },
  {
   "cell_type": "markdown",
   "metadata": {},
   "source": [
    "11. Vytvořte šachovnicovou matici 8x8 pomocí funkce \"tile\".\n"
   ]
  },
  {
   "cell_type": "code",
   "execution_count": 159,
   "metadata": {},
   "outputs": [
    {
     "name": "stdout",
     "output_type": "stream",
     "text": [
      "[[1 0 1 0 1 0 1 0]\n",
      " [0 1 0 1 0 1 0 1]\n",
      " [1 0 1 0 1 0 1 0]\n",
      " [0 1 0 1 0 1 0 1]\n",
      " [1 0 1 0 1 0 1 0]\n",
      " [0 1 0 1 0 1 0 1]\n",
      " [1 0 1 0 1 0 1 0]\n",
      " [0 1 0 1 0 1 0 1]]\n"
     ]
    }
   ],
   "source": [
    "pattern = [[1, 0], [0, 1]]\n",
    "X = np.tile(pattern, (4, 4))\n",
    "print(X)"
   ]
  },
  {
   "cell_type": "markdown",
   "metadata": {},
   "source": [
    "12. Vytvořte vektor velikosti 10 s hodnotami v rozsahu od 0 do 1 (obě hodnoty vyloučeny).\n"
   ]
  },
  {
   "cell_type": "code",
   "execution_count": 160,
   "metadata": {},
   "outputs": [
    {
     "name": "stdout",
     "output_type": "stream",
     "text": [
      "[0.09090909 0.18181818 0.27272727 0.36363636 0.45454545 0.54545455\n",
      " 0.63636364 0.72727273 0.81818182 0.90909091]\n"
     ]
    }
   ],
   "source": [
    "v = np.linspace(0, 1, 12)[1:-1]\n",
    "print(v)"
   ]
  },
  {
   "cell_type": "markdown",
   "metadata": {},
   "source": [
    "13. Vytvořte strukturované pole s koordináty x a y pokrývající oblast [0,1]x[0,1].\n"
   ]
  },
  {
   "cell_type": "code",
   "execution_count": 161,
   "metadata": {},
   "outputs": [
    {
     "name": "stdout",
     "output_type": "stream",
     "text": [
      "[(0.        , 0.) (0.01010101, 0.) (0.02020202, 0.) ... (0.97979798, 1.)\n",
      " (0.98989899, 1.) (1.        , 1.)]\n"
     ]
    }
   ],
   "source": [
    "x = np.linspace(0, 1, 100)\n",
    "y = np.linspace(0, 1, 100)\n",
    "X, Y = np.meshgrid(x, y)\n",
    "\n",
    "A = np.zeros((100*100,), dtype=[('x', float), ('y', float)])\n",
    "A['x'] = X.flatten()\n",
    "A['y'] = Y.flatten()\n",
    "\n",
    "print(A)\n",
    "#?? not really sure about this"
   ]
  },
  {
   "cell_type": "markdown",
   "metadata": {},
   "source": [
    "## Numpy a práce se soubory\n",
    "\n",
    "1. Jak přečíst následující soubor?\n",
    "   ```\n",
    "   1, 2, 3, 4, 5\n",
    "   6, , , 7, 8\n",
    "    , , 9,10,11\n",
    "   ```\n",
    "\n",
    "\n",
    "\n"
   ]
  },
  {
   "cell_type": "code",
   "execution_count": 162,
   "metadata": {},
   "outputs": [
    {
     "name": "stdout",
     "output_type": "stream",
     "text": [
      "Overwriting test_data.csv\n"
     ]
    }
   ],
   "source": [
    "%%writefile test_data.csv\n",
    "1, 2, 3, 4, 5\n",
    "6, , , 7, 8\n",
    " , , 9,10,11"
   ]
  },
  {
   "cell_type": "code",
   "execution_count": 163,
   "metadata": {},
   "outputs": [
    {
     "name": "stdout",
     "output_type": "stream",
     "text": [
      "[[ 1.  2.  3.  4.  5.]\n",
      " [ 6. nan nan  7.  8.]\n",
      " [nan nan  9. 10. 11.]]\n"
     ]
    }
   ],
   "source": [
    "data = np.genfromtxt(\"test_data.csv\", delimiter=\",\")\n",
    "print(data)"
   ]
  },
  {
   "cell_type": "markdown",
   "metadata": {},
   "source": [
    "2. Vytvořte tři náhodné matice 5x5 a uložte je do souboru pomocí formátu hdf5."
   ]
  },
  {
   "cell_type": "code",
   "execution_count": 164,
   "metadata": {},
   "outputs": [],
   "source": [
    "import h5py\n",
    "\n",
    "A1 = np.random.rand(5, 5)\n",
    "A2 = np.random.rand(5, 5)\n",
    "A3 = np.random.rand(5, 5)\n",
    "\n",
    "with h5py.File(\"matrices.h5\", \"w\") as hdf5_file:\n",
    "    hdf5_file.create_dataset(\"A1\", data=A1)\n",
    "    hdf5_file.create_dataset(\"A2\", data=A2)\n",
    "    hdf5_file.create_dataset(\"A3\", data=A3)\n"
   ]
  },
  {
   "cell_type": "markdown",
   "metadata": {},
   "source": [
    "3. Načtěte soubor z předchozího úkolu, zobrazte obsah každé matice a zjistěte jejich rozměry."
   ]
  },
  {
   "cell_type": "code",
   "execution_count": 165,
   "metadata": {},
   "outputs": [
    {
     "name": "stdout",
     "output_type": "stream",
     "text": [
      "[[0.16297382 0.97112653 0.05334092 0.92104829 0.07283276]\n",
      " [0.73883183 0.34967583 0.25964187 0.28241668 0.14071944]\n",
      " [0.58515007 0.54606803 0.52182398 0.86852041 0.81537854]\n",
      " [0.38879923 0.40503433 0.99314365 0.24461169 0.53753671]\n",
      " [0.0749763  0.57916405 0.2643636  0.65670446 0.67684656]]\n",
      "(5, 5)\n",
      "[[0.82159041 0.92261434 0.51762746 0.92135283 0.51832195]\n",
      " [0.11558676 0.94728422 0.2985888  0.44572902 0.56733105]\n",
      " [0.08303799 0.3549355  0.41381968 0.80030617 0.80117956]\n",
      " [0.86807586 0.97296464 0.14810479 0.1965884  0.49002484]\n",
      " [0.13965508 0.37453207 0.07849915 0.26399138 0.34622384]]\n",
      "(5, 5)\n",
      "[[0.49851954 0.98292963 0.46068131 0.52595465 0.77803832]\n",
      " [0.36483721 0.65236433 0.64115173 0.39142901 0.91803944]\n",
      " [0.52486112 0.64030797 0.82135005 0.28186308 0.86842525]\n",
      " [0.50920833 0.12873234 0.38121123 0.23281283 0.67491052]\n",
      " [0.05484645 0.40045331 0.35546933 0.86299824 0.51770593]]\n",
      "(5, 5)\n"
     ]
    }
   ],
   "source": [
    "with h5py.File(\"matrices.h5\", \"r\") as hdf5_file:\n",
    "    #data_hdf5 = hdf5_file[\"A1\"]\n",
    "    a1 = hdf5_file[\"A1\"][:]\n",
    "    a2 = hdf5_file[\"A2\"][:]\n",
    "    a3 = hdf5_file[\"A3\"][:]\n",
    "\n",
    "    print(a1)\n",
    "    print(a1.shape)\n",
    "    print(a2)\n",
    "    print(a2.shape)\n",
    "    print(a3)\n",
    "    print(a3.shape)"
   ]
  }
 ],
 "metadata": {
  "kernelspec": {
   "display_name": "Python 3",
   "language": "python",
   "name": "python3"
  },
  "language_info": {
   "codemirror_mode": {
    "name": "ipython",
    "version": 3
   },
   "file_extension": ".py",
   "mimetype": "text/x-python",
   "name": "python",
   "nbconvert_exporter": "python",
   "pygments_lexer": "ipython3",
   "version": "3.10.12"
  },
  "orig_nbformat": 4,
  "vscode": {
   "interpreter": {
    "hash": "e7370f93d1d0cde622a1f8e1c04877d8463912d04d973331ad4851f04de6915a"
   }
  }
 },
 "nbformat": 4,
 "nbformat_minor": 2
}
