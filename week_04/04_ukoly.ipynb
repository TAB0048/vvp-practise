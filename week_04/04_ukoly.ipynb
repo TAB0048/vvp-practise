{
 "cells": [
  {
   "attachments": {},
   "cell_type": "markdown",
   "metadata": {},
   "source": [
    "# Prostory jmen a obor platnosti proměnných:\n"
   ]
  },
  {
   "cell_type": "markdown",
   "metadata": {},
   "source": [
    "1. Rozhodněte co se vypíše a otestujte:\n",
    "\n",
    "    ```python\n",
    "    def foo():\n",
    "        global x\n",
    "        x = 20\n",
    "\n",
    "    x = 10\n",
    "    print(x)\n",
    "    foo()\n",
    "    print(x)\n",
    "    ```\n"
   ]
  },
  {
   "cell_type": "code",
   "execution_count": 1,
   "metadata": {},
   "outputs": [
    {
     "name": "stdout",
     "output_type": "stream",
     "text": [
      "10\n",
      "20\n"
     ]
    }
   ],
   "source": [
    "# 10\n",
    "# 20\n",
    "def foo():\n",
    "    global x\n",
    "    x = 20\n",
    "\n",
    "x = 10\n",
    "print(x)\n",
    "foo()\n",
    "print(x)\n"
   ]
  },
  {
   "cell_type": "markdown",
   "metadata": {},
   "source": [
    "\n",
    "2. Rozhodněte co se vypíše a otestujte:\n",
    "\n",
    "    ```python\n",
    "    def foo():\n",
    "        y = 30\n",
    "        print(y)\n",
    "\n",
    "    y = 20\n",
    "    foo()\n",
    "    print(y)\n",
    "    ```\n"
   ]
  },
  {
   "cell_type": "code",
   "execution_count": 2,
   "metadata": {},
   "outputs": [
    {
     "name": "stdout",
     "output_type": "stream",
     "text": [
      "30\n",
      "20\n"
     ]
    }
   ],
   "source": [
    "# 30\n",
    "# 20\n",
    "def foo():\n",
    "    y = 30\n",
    "    print(y)\n",
    "\n",
    "y = 20\n",
    "foo()\n",
    "print(y)"
   ]
  },
  {
   "cell_type": "markdown",
   "metadata": {},
   "source": [
    "\n",
    "3. Rozhodněte co se vypíše a otestujte:\n",
    "\n",
    "    ```python\n",
    "    def foo1():\n",
    "        def foo2():\n",
    "            nonlocal z\n",
    "            z = 100\n",
    "        z = 50\n",
    "        print(z)  # Vytiskne 50\n",
    "        foo2()\n",
    "        print(z)  # Vytiskne 100? Nebo 50?\n",
    "\n",
    "    foo1()\n",
    "    ```\n"
   ]
  },
  {
   "cell_type": "code",
   "execution_count": 3,
   "metadata": {},
   "outputs": [
    {
     "name": "stdout",
     "output_type": "stream",
     "text": [
      "50\n",
      "100\n"
     ]
    }
   ],
   "source": [
    "def foo1():\n",
    "    def foo2():\n",
    "        nonlocal z\n",
    "        z = 100\n",
    "    z = 50\n",
    "    print(z)  # Vytiskne 50\n",
    "    foo2()\n",
    "    print(z)  # Vytiskne 100? Nebo 50? 100\n",
    "\n",
    "foo1()"
   ]
  },
  {
   "cell_type": "markdown",
   "metadata": {},
   "source": [
    "\n",
    "4. Rozhodněte co se vypíše a otestujte:\n",
    "\n",
    "    ```python\n",
    "    x = 1\n",
    "    def foo1():\n",
    "        x = 2\n",
    "        def foo2():\n",
    "            global x\n",
    "            x = 3\n",
    "        print(x)\n",
    "        foo2()\n",
    "        print(x)\n",
    "\n",
    "    foo1()\n",
    "    print(x)\n",
    "    ```\n"
   ]
  },
  {
   "cell_type": "code",
   "execution_count": 5,
   "metadata": {},
   "outputs": [
    {
     "name": "stdout",
     "output_type": "stream",
     "text": [
      "2\n",
      "2\n",
      "3\n"
     ]
    }
   ],
   "source": [
    "x = 1\n",
    "def foo1():\n",
    "    x = 2\n",
    "    def foo2():\n",
    "        global x\n",
    "        x = 3\n",
    "    print(x) # 2\n",
    "    foo2()\n",
    "    print(x) # 2\n",
    "\n",
    "foo1()\n",
    "print(x) # 3"
   ]
  },
  {
   "cell_type": "markdown",
   "metadata": {},
   "source": [
    "\n",
    "5. Rozhodněte co se vypíše a otestujte:\n",
    "\n",
    "    ```python\n",
    "    def foo1(a):\n",
    "        a = 40\n",
    "        print(a)\n",
    "\n",
    "    a = 30\n",
    "    foo1(a)\n",
    "    print(a)\n",
    "    ```\n"
   ]
  },
  {
   "cell_type": "code",
   "execution_count": 7,
   "metadata": {},
   "outputs": [
    {
     "name": "stdout",
     "output_type": "stream",
     "text": [
      "40\n",
      "30\n"
     ]
    }
   ],
   "source": [
    "def foo1(a):\n",
    "    a = 40\n",
    "    print(a)\n",
    "\n",
    "a = 30\n",
    "foo1(a) # 40\n",
    "print(a) # 30"
   ]
  },
  {
   "cell_type": "markdown",
   "metadata": {},
   "source": [
    "6. Rozhodněte co se vypíše a otestujte:\n",
    "\n",
    "    ```python\n",
    "    def funkce():\n",
    "        x = 10\n",
    "\n",
    "    x = 5\n",
    "\n",
    "    print(x)\n",
    "\n",
    "    funkce()\n",
    "\n",
    "    print(x)\n",
    "    ```\n"
   ]
  },
  {
   "cell_type": "code",
   "execution_count": 8,
   "metadata": {},
   "outputs": [
    {
     "name": "stdout",
     "output_type": "stream",
     "text": [
      "5\n",
      "5\n"
     ]
    }
   ],
   "source": [
    "def funkce():\n",
    "    x = 10\n",
    "\n",
    "x = 5\n",
    "\n",
    "print(x) # 5\n",
    "\n",
    "funkce()\n",
    "\n",
    "print(x) # 5"
   ]
  },
  {
   "cell_type": "markdown",
   "metadata": {},
   "source": [
    "\n",
    "7. Rozhodněte co se vypíše a otestujte:\n",
    "\n",
    "    ```python\n",
    "    x = 5\n",
    "\n",
    "    def vnejsi_funkce():\n",
    "        x = 10\n",
    "\n",
    "        def vnitrni_funkce():\n",
    "            print(x)\n",
    "\n",
    "        vnitrni_funkce()\n",
    "\n",
    "    vnejsi_funkce()\n",
    "    ```\n"
   ]
  },
  {
   "cell_type": "code",
   "execution_count": 9,
   "metadata": {},
   "outputs": [
    {
     "name": "stdout",
     "output_type": "stream",
     "text": [
      "10\n"
     ]
    }
   ],
   "source": [
    "x = 5\n",
    "\n",
    "def vnejsi_funkce():\n",
    "    x = 10\n",
    "\n",
    "    def vnitrni_funkce():\n",
    "        print(x) \n",
    "\n",
    "    vnitrni_funkce() \n",
    "\n",
    "vnejsi_funkce() # 10"
   ]
  },
  {
   "cell_type": "markdown",
   "metadata": {},
   "source": [
    "\n",
    "8. Rozhodněte co se vypíše a otestujte:\n",
    "\n",
    "    ```python\n",
    "    x = 10\n",
    "\n",
    "    def funkce():\n",
    "        x += 1\n",
    "\n",
    "    funkce()\n",
    "\n",
    "    print(x)\n",
    "    ```"
   ]
  },
  {
   "cell_type": "code",
   "execution_count": 11,
   "metadata": {},
   "outputs": [
    {
     "ename": "UnboundLocalError",
     "evalue": "local variable 'x' referenced before assignment",
     "output_type": "error",
     "traceback": [
      "\u001b[0;31m---------------------------------------------------------------------------\u001b[0m",
      "\u001b[0;31mUnboundLocalError\u001b[0m                         Traceback (most recent call last)",
      "Cell \u001b[0;32mIn[11], line 6\u001b[0m\n\u001b[1;32m      3\u001b[0m \u001b[38;5;28;01mdef\u001b[39;00m \u001b[38;5;21mfunkce\u001b[39m():\n\u001b[1;32m      4\u001b[0m     x \u001b[38;5;241m+\u001b[39m\u001b[38;5;241m=\u001b[39m \u001b[38;5;241m1\u001b[39m\n\u001b[0;32m----> 6\u001b[0m \u001b[43mfunkce\u001b[49m\u001b[43m(\u001b[49m\u001b[43m)\u001b[49m\n\u001b[1;32m      8\u001b[0m \u001b[38;5;28mprint\u001b[39m(x) \u001b[38;5;66;03m# probably error\u001b[39;00m\n",
      "Cell \u001b[0;32mIn[11], line 4\u001b[0m, in \u001b[0;36mfunkce\u001b[0;34m()\u001b[0m\n\u001b[1;32m      3\u001b[0m \u001b[38;5;28;01mdef\u001b[39;00m \u001b[38;5;21mfunkce\u001b[39m():\n\u001b[0;32m----> 4\u001b[0m     x \u001b[38;5;241m+\u001b[39m\u001b[38;5;241m=\u001b[39m \u001b[38;5;241m1\u001b[39m\n",
      "\u001b[0;31mUnboundLocalError\u001b[0m: local variable 'x' referenced before assignment"
     ]
    }
   ],
   "source": [
    "x = 10\n",
    "\n",
    "def funkce():\n",
    "    x += 1\n",
    "\n",
    "funkce()\n",
    "\n",
    "print(x) # probably error"
   ]
  },
  {
   "cell_type": "markdown",
   "metadata": {},
   "source": [
    "\n",
    "9. Rozhodněte co se vypíše a otestujte:\n",
    "\n",
    "    ```python\n",
    "    x = 1\n",
    "    def foo4():\n",
    "        global x\n",
    "        x = 2\n",
    "        def vnitrni():\n",
    "            nonlocal x\n",
    "            x = 3\n",
    "        print(x)\n",
    "        vnitrni()\n",
    "        print(x)\n",
    "\n",
    "    print(x)\n",
    "    foo4()\n",
    "    print(x)\n",
    "    ```"
   ]
  },
  {
   "cell_type": "code",
   "execution_count": 12,
   "metadata": {},
   "outputs": [
    {
     "ename": "SyntaxError",
     "evalue": "no binding for nonlocal 'x' found (2832452046.py, line 6)",
     "output_type": "error",
     "traceback": [
      "\u001b[0;36m  Cell \u001b[0;32mIn[12], line 6\u001b[0;36m\u001b[0m\n\u001b[0;31m    nonlocal x\u001b[0m\n\u001b[0m    ^\u001b[0m\n\u001b[0;31mSyntaxError\u001b[0m\u001b[0;31m:\u001b[0m no binding for nonlocal 'x' found\n"
     ]
    }
   ],
   "source": [
    "x = 1\n",
    "def foo4():\n",
    "    global x\n",
    "    x = 2\n",
    "    def vnitrni():\n",
    "        nonlocal x\n",
    "        x = 3\n",
    "    print(x)\n",
    "    vnitrni()\n",
    "    print(x)\n",
    "\n",
    "print(x) # 1\n",
    "foo4() # error\n",
    "print(x)"
   ]
  },
  {
   "cell_type": "markdown",
   "metadata": {},
   "source": [
    "\n",
    "10. Upravte funkci nalézající prvočísla tak, aby ukládala již spočítané prvočísla do listu v defaultním argumentu funkce. \n",
    "\n",
    "- Tedy, při volání funkce zkontroluje list prvočísel, které už byly spočítány a případně dopočítá další prvočísla, pokud to požadovaný počet vyžaduje.\n",
    "- Vrátí vždy **kopii** části listu prvočísel, která odpovídá požadovanému počtu prvočísel."
   ]
  },
  {
   "cell_type": "code",
   "execution_count": 13,
   "metadata": {},
   "outputs": [
    {
     "data": {
      "text/plain": [
       "[2, 3, 5, 7, 11, 13, 17, 19, 23, 29]"
      ]
     },
     "execution_count": 13,
     "metadata": {},
     "output_type": "execute_result"
    }
   ],
   "source": [
    "def najdi_n_prvocisel(n):\n",
    "    prvocisla = []\n",
    "    i = 2\n",
    "    while len(prvocisla) < n:\n",
    "        je_prvocislo = True\n",
    "        for prvocislo in prvocisla:\n",
    "            if i % prvocislo == 0:\n",
    "                je_prvocislo = False\n",
    "                break\n",
    "        if je_prvocislo:\n",
    "            prvocisla.append(i)\n",
    "        i += 1\n",
    "    return prvocisla\n",
    "\n",
    "najdi_n_prvocisel(10)"
   ]
  },
  {
   "cell_type": "code",
   "execution_count": 17,
   "metadata": {},
   "outputs": [
    {
     "name": "stdout",
     "output_type": "stream",
     "text": [
      "[2, 3, 5, 7, 11, 13, 17, 19, 23, 29]\n",
      "[2, 3, 5, 7, 11]\n",
      "[2, 3, 5, 7, 11, 13, 17, 19, 23, 29, 31, 37, 41, 43, 47]\n",
      "[2, 3]\n"
     ]
    }
   ],
   "source": [
    "def najdi_n_prvocisel(n, prvocisla = [] ):\n",
    "    i = 2\n",
    "    while len(prvocisla) < n:\n",
    "        je_prvocislo = True\n",
    "        for prvocislo in prvocisla:\n",
    "            if i % prvocislo == 0:\n",
    "                je_prvocislo = False\n",
    "                break\n",
    "        if je_prvocislo:\n",
    "            prvocisla.append(i)\n",
    "        i += 1\n",
    "    return prvocisla[:n]\n",
    "\n",
    "print(najdi_n_prvocisel(10))\n",
    "print(najdi_n_prvocisel(5))\n",
    "print(najdi_n_prvocisel(15))\n",
    "print(najdi_n_prvocisel(2))"
   ]
  },
  {
   "cell_type": "markdown",
   "metadata": {},
   "source": [
    "# Třídy:"
   ]
  },
  {
   "cell_type": "markdown",
   "metadata": {},
   "source": [
    "1. Vytvořte funkci, která pro libovolný vstupní objekt vypíše název jeho třídy (použijte atribut `__class__` a atribut `__name__`, který má automaticky každá třída)."
   ]
  },
  {
   "cell_type": "code",
   "execution_count": 24,
   "metadata": {},
   "outputs": [
    {
     "name": "stdout",
     "output_type": "stream",
     "text": [
      "float\n",
      "int\n",
      "str\n",
      "bool\n"
     ]
    }
   ],
   "source": [
    "def get_class( object ):\n",
    "    print(object.__class__.__name__)\n",
    "\n",
    "x = 1.5\n",
    "get_class(x)\n",
    "x = 0\n",
    "get_class(x)\n",
    "x = \"hello\"\n",
    "get_class(x)\n",
    "x = True\n",
    "get_class(x)"
   ]
  },
  {
   "cell_type": "markdown",
   "metadata": {},
   "source": [
    "2. Vytvořte třídu implementující metodu `__call__`, která bude mít stejnou funkčnost jako funkce pro vypisování prvních `n` prvočísel (s ukládáním do defaultního argumentu)."
   ]
  },
  {
   "cell_type": "code",
   "execution_count": 28,
   "metadata": {},
   "outputs": [
    {
     "name": "stdout",
     "output_type": "stream",
     "text": [
      "[2, 3]\n",
      "[2, 3, 5, 7, 11, 13, 17, 19, 23, 29]\n",
      "[2, 3, 5, 7, 11]\n"
     ]
    }
   ],
   "source": [
    "\n",
    "class Primes:\n",
    "    def __init__(self):\n",
    "        self.prvocisla = []\n",
    "\n",
    "    def __call__(self, n):\n",
    "        i = 2\n",
    "        while len(self.prvocisla) < n:\n",
    "            je_prvocislo = True\n",
    "            for prvocislo in self.prvocisla:\n",
    "                if i % prvocislo == 0:\n",
    "                    je_prvocislo = False\n",
    "                    break\n",
    "            if je_prvocislo:\n",
    "                self.prvocisla.append(i)\n",
    "            i += 1\n",
    "        return self.prvocisla[:n] \n",
    "    \n",
    "primes = Primes()\n",
    "print(primes(2))\n",
    "print(primes(10))\n",
    "print(primes(5))"
   ]
  },
  {
   "cell_type": "markdown",
   "metadata": {},
   "source": [
    "3. Modifikujte třídu o implementaci metody `__getitem__`, která bude vracet prvočísla podle indexu (podporující jak celočíselné indexy, tak i indexy ve formě `slice`).\n",
    "\n",
    "- bude se vám hodit `isinstance` pro rozhodnutí zda je vstupní argument `slice` nebo `int`.\n",
    "- bude se vám hodit, že objekt typu `slice` má atributy `start`, `stop` a `step`."
   ]
  },
  {
   "cell_type": "code",
   "execution_count": 29,
   "metadata": {},
   "outputs": [
    {
     "name": "stdout",
     "output_type": "stream",
     "text": [
      "2\n",
      "13\n",
      "Index out of range\n",
      "[5, 7, 11]\n",
      "[2, 3, 5, 7, 11, 13, 17, 19, 23, 29, 31, 37, 41, 43, 47]\n",
      "[7, 17, 29, 41]\n"
     ]
    }
   ],
   "source": [
    "class Primes:\n",
    "    def __init__(self):\n",
    "        self.primes = []\n",
    "\n",
    "    def __call__(self, n):\n",
    "        i = 2\n",
    "        while len(self.primes) < n:\n",
    "            is_prime = True\n",
    "            for prime in self.primes:\n",
    "                if i % prime == 0:\n",
    "                    is_prime = False\n",
    "                    break\n",
    "            if is_prime:\n",
    "                self.primes.append(i)\n",
    "            i += 1\n",
    "        return self.primes[:n]\n",
    "\n",
    "    def __getitem__(self, index):\n",
    "        if isinstance(index, int):\n",
    "            if index >= len(self.primes):\n",
    "                return \"Index out of range\"\n",
    "            return self.primes[index]\n",
    "        elif isinstance(index, slice):\n",
    "            start = index.start if index.start != None else 0\n",
    "            stop = index.stop if index.stop != None else len(self.primes)\n",
    "            step = index.step if index.step != None else 1\n",
    "            return self.primes[start:stop:step]\n",
    "\n",
    "primes = Primes()\n",
    "primes(15)\n",
    "print(primes[0])\n",
    "print(primes[5])\n",
    "print(primes[456])\n",
    "print(primes[2:5])\n",
    "print(primes[::])\n",
    "print(primes[3:14:3])"
   ]
  },
  {
   "cell_type": "markdown",
   "metadata": {},
   "source": [
    "4. Vytvořte třídu `Zlomek` reprezentující zlomek s celočíselným čitatelem a jmenovatelem. \n",
    "\n",
    "- Implementujte metody pro sčítání, odčítání, násobení a dělení zlomků. \n",
    "- Implementujte metodu pro zjednodušení zlomku (použijte knihovnu `math` a funkci `gcd`) a přidejte ji do konstruktoru.\n",
    "- Implementujte metody pro výpis zlomku jak do konzole, tak do řetězce.\n",
    "- Implementujte metodu pro převedení zlomku na desetinné číslo.\n",
    "- Implementujte metodu pro porovnávání zlomků (můžete použít převod na desetinné číslo).\n",
    "\n",
    "```python\n",
    "class Zlomek:\n",
    "    def __init__(self, citatel, jmenovatel):\n",
    "    def __add__(self, other):\n",
    "    def __sub__(self, other):\n",
    "    def __mul__(self, other):\n",
    "    def __truediv__(self, other):\n",
    "    def simplify(self):\n",
    "    def __str__(self):\n",
    "    def __repr__(self):\n",
    "    def to_float(self):\n",
    "    def __le__(self, other):\n",
    "    def __lt__(self, other):\n",
    "    def __ge__(self, other):\n",
    "    def __gt__(self, other):\n",
    "    def __eq__(self, other):\n",
    "```"
   ]
  },
  {
   "cell_type": "code",
   "execution_count": 40,
   "metadata": {},
   "outputs": [
    {
     "name": "stdout",
     "output_type": "stream",
     "text": [
      "(1/2) (7/28)\n",
      "(42/56)\n",
      "(14/56)\n",
      "(7/56)\n",
      "(28/14)\n",
      "0.5\n",
      "(1.0/4.0)\n"
     ]
    }
   ],
   "source": [
    "import math\n",
    "\n",
    "class Zlomek:\n",
    "    def __init__(self, citatel, jmenovatel):\n",
    "        self.citatel = citatel\n",
    "        self.jmenovatel = jmenovatel\n",
    "\n",
    "    def __add__(self, other):\n",
    "        return Zlomek( self.citatel*other.jmenovatel + other.citatel*self.jmenovatel, self.jmenovatel*other.jmenovatel)\n",
    "    \n",
    "    def __sub__(self, other):\n",
    "        return Zlomek( self.citatel*other.jmenovatel - other.citatel*self.jmenovatel, self.jmenovatel*other.jmenovatel)\n",
    "    \n",
    "    def __mul__(self, other):\n",
    "        return Zlomek( self.citatel*other.citatel, self.jmenovatel*other.jmenovatel)\n",
    "    \n",
    "    def __truediv__(self, other):\n",
    "        return Zlomek( self.citatel*other.jmenovatel, self.jmenovatel*other.citatel)\n",
    "    \n",
    "    def simplify(self):\n",
    "        gcd = math.gcd(self.citatel, self.jmenovatel)\n",
    "        self.citatel /= gcd\n",
    "        self.jmenovatel /= gcd\n",
    "        return self\n",
    "\n",
    "    def __str__(self):\n",
    "        return \"(\" + str(self.citatel) + \"/\" + str(self.jmenovatel) + \")\"\n",
    "    \n",
    "    def __repr__(self):\n",
    "        return \"(\" + str(self.citatel) + \"/\" + str(self.jmenovatel) + \")\"\n",
    "    \n",
    "    def to_float(self):\n",
    "        return self.citatel/self.jmenovatel\n",
    "    \n",
    "    def __le__(self, other):\n",
    "        return to_float(self) <= to_float(other)\n",
    "    \n",
    "    def __lt__(self, other):\n",
    "        return to_float(self) < to_float(other)\n",
    "    \n",
    "    def __ge__(self, other):\n",
    "        return to_float(self) >= to_float(other)\n",
    "    \n",
    "    def __gt__(self, other):\n",
    "        return to_float(self) > to_float(other)\n",
    "    \n",
    "    def __eq__(self, other):\n",
    "        return to_float(self) == to_float(other)\n",
    "    \n",
    "x = Zlomek(1, 2)\n",
    "y = Zlomek(7, 28)\n",
    "print(x, y)\n",
    "print(x + y)\n",
    "print(x - y)\n",
    "print(x * y)\n",
    "print(x / y)\n",
    "print(x.to_float())\n",
    "print(y.simplify())"
   ]
  }
 ],
 "metadata": {
  "kernelspec": {
   "display_name": "Python 3",
   "language": "python",
   "name": "python3"
  },
  "language_info": {
   "codemirror_mode": {
    "name": "ipython",
    "version": 3
   },
   "file_extension": ".py",
   "mimetype": "text/x-python",
   "name": "python",
   "nbconvert_exporter": "python",
   "pygments_lexer": "ipython3",
   "version": "3.10.12"
  },
  "orig_nbformat": 4,
  "vscode": {
   "interpreter": {
    "hash": "e7370f93d1d0cde622a1f8e1c04877d8463912d04d973331ad4851f04de6915a"
   }
  }
 },
 "nbformat": 4,
 "nbformat_minor": 2
}
