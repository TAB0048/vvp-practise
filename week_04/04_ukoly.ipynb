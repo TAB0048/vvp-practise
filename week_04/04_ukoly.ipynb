{
 "cells": [
  {
   "attachments": {},
   "cell_type": "markdown",
   "metadata": {},
   "source": [
    "# Prostory jmen a obor platnosti proměnných:\n",
    "1. Rozhodněte a otestujte:\n",
    "\n",
    "    ```python\n",
    "    def funkce():\n",
    "        x = 10\n",
    "\n",
    "    x = 5\n",
    "\n",
    "    print(x)  # Vytiskne 5\n",
    "\n",
    "    funkce()\n",
    "\n",
    "    print(x)  # Vytiskne 5? Nebo 10?\n",
    "    ```\n"
   ]
  },
  {
   "cell_type": "code",
   "execution_count": 51,
   "metadata": {},
   "outputs": [
    {
     "name": "stdout",
     "output_type": "stream",
     "text": [
      "5\n",
      "5\n"
     ]
    }
   ],
   "source": [
    "# druhe zavolani vytiskne 5, protoze x = 10 plati lokalne pouze fe funkci funkce()\n",
    "def funkce():\n",
    "        x = 10\n",
    "\n",
    "x = 5\n",
    "print(x)  # Vytiskne 5\n",
    "funkce()\n",
    "print(x)  # Vytiskne 5? Nebo 10?"
   ]
  },
  {
   "cell_type": "markdown",
   "metadata": {},
   "source": [
    "\n",
    "2. Rozhodněte a otestujte:\n",
    "\n",
    "    ```python\n",
    "    x = 5\n",
    "\n",
    "    def vnejsi_funkce():\n",
    "        x = 10\n",
    "\n",
    "        def vnitrni_funkce():\n",
    "            print(x)  # Vytiskne 5, 10? Nebo chybu?\n",
    "\n",
    "        vnitrni_funkce()\n",
    "\n",
    "    vnejsi_funkce()\n",
    "    ```\n"
   ]
  },
  {
   "cell_type": "code",
   "execution_count": 52,
   "metadata": {},
   "outputs": [
    {
     "name": "stdout",
     "output_type": "stream",
     "text": [
      "10\n"
     ]
    }
   ],
   "source": [
    "# tak asi 10, protoze x = 10 je nelokalni prostor a tam se bude hledat drive nez v globalnim\n",
    "x = 5\n",
    "\n",
    "def vnejsi_funkce():\n",
    "    x = 10\n",
    "    def vnitrni_funkce():\n",
    "        print(x)  # Vytiskne 5, 10? Nebo chybu?\n",
    "    vnitrni_funkce()\n",
    "\n",
    "vnejsi_funkce()"
   ]
  },
  {
   "cell_type": "markdown",
   "metadata": {},
   "source": [
    "\n",
    "3. Rozhodněte a otestujte:\n",
    "\n",
    "    ```python\n",
    "    x = 10\n",
    "\n",
    "    def funkce():\n",
    "        x += 1\n",
    "\n",
    "    funkce()\n",
    "\n",
    "    print(x)  # Co se vytiskne?\n",
    "    ```"
   ]
  },
  {
   "cell_type": "code",
   "execution_count": 53,
   "metadata": {},
   "outputs": [
    {
     "ename": "UnboundLocalError",
     "evalue": "local variable 'x' referenced before assignment",
     "output_type": "error",
     "traceback": [
      "\u001b[0;31m---------------------------------------------------------------------------\u001b[0m",
      "\u001b[0;31mUnboundLocalError\u001b[0m                         Traceback (most recent call last)",
      "Cell \u001b[0;32mIn[53], line 6\u001b[0m\n\u001b[1;32m      3\u001b[0m \u001b[38;5;28;01mdef\u001b[39;00m \u001b[38;5;21mfunkce\u001b[39m():\n\u001b[1;32m      4\u001b[0m     x \u001b[38;5;241m+\u001b[39m\u001b[38;5;241m=\u001b[39m \u001b[38;5;241m1\u001b[39m\n\u001b[0;32m----> 6\u001b[0m \u001b[43mfunkce\u001b[49m\u001b[43m(\u001b[49m\u001b[43m)\u001b[49m\n\u001b[1;32m      8\u001b[0m \u001b[38;5;28mprint\u001b[39m(x)  \u001b[38;5;66;03m# Co se vytiskne? chyba\u001b[39;00m\n",
      "Cell \u001b[0;32mIn[53], line 4\u001b[0m, in \u001b[0;36mfunkce\u001b[0;34m()\u001b[0m\n\u001b[1;32m      3\u001b[0m \u001b[38;5;28;01mdef\u001b[39;00m \u001b[38;5;21mfunkce\u001b[39m():\n\u001b[0;32m----> 4\u001b[0m     x \u001b[38;5;241m+\u001b[39m\u001b[38;5;241m=\u001b[39m \u001b[38;5;241m1\u001b[39m\n",
      "\u001b[0;31mUnboundLocalError\u001b[0m: local variable 'x' referenced before assignment"
     ]
    }
   ],
   "source": [
    "x = 10\n",
    "\n",
    "def funkce():\n",
    "    x += 1\n",
    "\n",
    "funkce()\n",
    "\n",
    "print(x)  # Co se vytiskne? chyba"
   ]
  },
  {
   "cell_type": "markdown",
   "metadata": {},
   "source": [
    "\n",
    "4. Upravte funkci nalézající prvočísla tak, aby ukládala již spočítané prvočísla do listu v defaultním argumentu funkce. \n",
    "\n",
    "- Tedy, při volání funkce zkontroluje list prvočísel, které už byly spočítány a případně dopočítá další prvočísla, pokud to požadovaný počet vyžaduje.\n",
    "- Vrátí vždy **kopii** části listu prvočísel, která odpovídá požadovanému počtu prvočísel."
   ]
  },
  {
   "cell_type": "code",
   "execution_count": 54,
   "metadata": {},
   "outputs": [
    {
     "data": {
      "text/plain": [
       "[2, 3, 5, 7, 11, 13, 17, 19, 23, 29]"
      ]
     },
     "execution_count": 54,
     "metadata": {},
     "output_type": "execute_result"
    }
   ],
   "source": [
    "# original implementation\n",
    "def najdi_n_prvocisel(n):\n",
    "    prvocisla = []\n",
    "    i = 2\n",
    "    while len(prvocisla) < n:\n",
    "        je_prvocislo = True\n",
    "        for prvocislo in prvocisla:\n",
    "            if i % prvocislo == 0:\n",
    "                je_prvocislo = False\n",
    "                break\n",
    "        if je_prvocislo:\n",
    "            prvocisla.append(i)\n",
    "        i += 1\n",
    "    return prvocisla\n",
    "\n",
    "najdi_n_prvocisel(10)"
   ]
  },
  {
   "cell_type": "code",
   "execution_count": 55,
   "metadata": {},
   "outputs": [
    {
     "name": "stdout",
     "output_type": "stream",
     "text": [
      "[2, 3, 5, 7, 11, 13, 17, 19, 23, 29]\n",
      "[2, 3]\n",
      "[2, 3, 5, 7, 11]\n",
      "[2, 3, 5, 7, 11, 13, 17, 19, 23, 29, 31, 37, 41, 43, 47, 53, 59, 61]\n"
     ]
    }
   ],
   "source": [
    "# new implementation\n",
    "def najdi_n_prvocisel2( n, prvocisla = []):\n",
    "    i = 2\n",
    "    while len(prvocisla) < n:\n",
    "        je_prvocislo = True\n",
    "        for prvocislo in prvocisla:\n",
    "            if i % prvocislo == 0:\n",
    "                je_prvocislo = False\n",
    "                break\n",
    "        if je_prvocislo:\n",
    "            prvocisla.append(i)\n",
    "        i += 1\n",
    "    return prvocisla[:n]\n",
    "\n",
    "print(najdi_n_prvocisel2(10))\n",
    "print(najdi_n_prvocisel2(2))\n",
    "print(najdi_n_prvocisel2(5))\n",
    "print(najdi_n_prvocisel2(18))"
   ]
  },
  {
   "cell_type": "markdown",
   "metadata": {},
   "source": [
    "5. Vytvořte proměnnou `nejaka_prommena` a přiřaďte jí nějakou hodnotu. \n",
    "\n",
    "- pomocí `globals()` změňte hodnotu proměnné `nejaka_prommena` na jinou hodnotu, zkontrolujte, že se hodnota změnila.\n",
    "- pomocí `globals()` vytvořte novou proměnnou `nejaka_jina_prommena` a přiřaďte jí nějakou hodnotu, zkontrolujte, že se proměnná vytvořila."
   ]
  },
  {
   "cell_type": "code",
   "execution_count": 56,
   "metadata": {},
   "outputs": [
    {
     "name": "stdout",
     "output_type": "stream",
     "text": [
      "7\n",
      "17\n",
      "666\n"
     ]
    }
   ],
   "source": [
    "nejaka_promena = 7\n",
    "print(nejaka_promena)\n",
    "globals()[\"nejaka_promena\"] = 17\n",
    "print(nejaka_promena)\n",
    "\n",
    "globals()[\"nejaka_jina_promena\"] = 666\n",
    "print(nejaka_jina_promena)"
   ]
  },
  {
   "cell_type": "markdown",
   "metadata": {},
   "source": [
    "# Třídy:"
   ]
  },
  {
   "cell_type": "markdown",
   "metadata": {},
   "source": [
    "1. Vytvořte funkci, která pro libovolný vstupní objekt vypíše název jeho třídy (použijte atribut `__class__` a atribut `__name__`, který má automaticky každá třída)."
   ]
  },
  {
   "cell_type": "code",
   "execution_count": 57,
   "metadata": {},
   "outputs": [
    {
     "name": "stdout",
     "output_type": "stream",
     "text": [
      "Class: str\n",
      "Class: int\n",
      "Class: bool\n",
      "Class: list\n"
     ]
    }
   ],
   "source": [
    "def get_class(object):\n",
    "    print(f\"Class: {object.__class__.__name__}\")\n",
    "\n",
    "get_class(\"ahoj\")\n",
    "get_class(15)\n",
    "get_class(True)\n",
    "get_class([1, 2, 3, 4, 5])"
   ]
  },
  {
   "cell_type": "markdown",
   "metadata": {},
   "source": [
    "2. Vytvořte třídu implementující metodu `__call__`, která bude mít stejnou funkčnost jako funkce pro vypisování prvních `n` prvočísel (s ukládáním do defaultního argumentu)."
   ]
  },
  {
   "cell_type": "code",
   "execution_count": 58,
   "metadata": {},
   "outputs": [
    {
     "data": {
      "text/plain": [
       "[2, 3, 5, 7, 11]"
      ]
     },
     "execution_count": 58,
     "metadata": {},
     "output_type": "execute_result"
    }
   ],
   "source": [
    "class Primes:\n",
    "    def __init__(self):\n",
    "        self.primes = []\n",
    "\n",
    "    def __call__(self, n):\n",
    "        i = 2\n",
    "        while len(self.primes) < n:\n",
    "            is_prime = True\n",
    "            for prime in self.primes:\n",
    "                if i % prime == 0:\n",
    "                    is_prime = False\n",
    "                    break\n",
    "            if is_prime:\n",
    "                self.primes.append(i)\n",
    "            i += 1\n",
    "        return self.primes[:n]\n",
    " \n",
    "    \n",
    "primes = Primes()\n",
    "primes(5)"
   ]
  },
  {
   "cell_type": "markdown",
   "metadata": {},
   "source": [
    "3. Modifikujte třídu o implementaci metody `__getitem__`, která bude vracet prvočísla podle indexu (podporující jak celočíselné indexy, tak i indexy ve formě `slice`).\n",
    "\n",
    "- bude se vám hodit `isinstance` pro rozhodnutí zda je vstupní argument `slice` nebo `int`.\n",
    "- bude se vám hodit, že objekt typu `slice` má atributy `start`, `stop` a `step`."
   ]
  },
  {
   "cell_type": "code",
   "execution_count": 59,
   "metadata": {},
   "outputs": [
    {
     "name": "stdout",
     "output_type": "stream",
     "text": [
      "2\n",
      "13\n",
      "Index out of range\n",
      "[5, 7, 11]\n",
      "[2, 3, 5, 7, 11, 13, 17, 19, 23, 29, 31, 37, 41, 43, 47]\n",
      "[7, 17, 29, 41]\n"
     ]
    }
   ],
   "source": [
    "class Primes:\n",
    "    def __init__(self):\n",
    "        self.primes = []\n",
    "\n",
    "    def __call__(self, n):\n",
    "        i = 2\n",
    "        while len(self.primes) < n:\n",
    "            is_prime = True\n",
    "            for prime in self.primes:\n",
    "                if i % prime == 0:\n",
    "                    is_prime = False\n",
    "                    break\n",
    "            if is_prime:\n",
    "                self.primes.append(i)\n",
    "            i += 1\n",
    "        return self.primes[:n]\n",
    "\n",
    "    def __getitem__(self, index):\n",
    "        if isinstance(index, int):\n",
    "            if index >= len(self.primes):\n",
    "                return \"Index out of range\"\n",
    "            return self.primes[index]\n",
    "        elif isinstance(index, slice):\n",
    "            start = index.start if index.start != None else 0\n",
    "            stop = index.stop if index.stop != None else len(self.primes)\n",
    "            step = index.step if index.step != None else 1\n",
    "            return self.primes[start:stop:step]\n",
    "\n",
    "primes = Primes()\n",
    "primes(15)\n",
    "print(primes[0])\n",
    "print(primes[5])\n",
    "print(primes[456])\n",
    "print(primes[2:5])\n",
    "print(primes[::])\n",
    "print(primes[3:14:3])\n"
   ]
  }
 ],
 "metadata": {
  "kernelspec": {
   "display_name": "Python 3",
   "language": "python",
   "name": "python3"
  },
  "language_info": {
   "codemirror_mode": {
    "name": "ipython",
    "version": 3
   },
   "file_extension": ".py",
   "mimetype": "text/x-python",
   "name": "python",
   "nbconvert_exporter": "python",
   "pygments_lexer": "ipython3",
   "version": "3.10.12"
  },
  "orig_nbformat": 4,
  "vscode": {
   "interpreter": {
    "hash": "e7370f93d1d0cde622a1f8e1c04877d8463912d04d973331ad4851f04de6915a"
   }
  }
 },
 "nbformat": 4,
 "nbformat_minor": 2
}
