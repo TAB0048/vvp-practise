{
 "cells": [
  {
   "attachments": {},
   "cell_type": "markdown",
   "metadata": {},
   "source": [
    "# Prostory jmen a obor platnosti proměnných:\n",
    "1. Rozhodněte a otestujte:\n",
    "\n",
    "    ```python\n",
    "    def funkce():\n",
    "        x = 10\n",
    "\n",
    "    x = 5\n",
    "\n",
    "    print(x)  # Vytiskne 5\n",
    "\n",
    "    funkce()\n",
    "\n",
    "    print(x)  # Vytiskne 5? Nebo 10?\n",
    "    ```\n"
   ]
  },
  {
   "cell_type": "code",
   "execution_count": 2,
   "metadata": {},
   "outputs": [
    {
     "name": "stdout",
     "output_type": "stream",
     "text": [
      "5\n",
      "5\n"
     ]
    }
   ],
   "source": [
    "# druhe zavolani vytiskne 5, protoze x = 10 plati lokalne pouze fe funkci funkce()\n",
    "def funkce():\n",
    "        x = 10\n",
    "\n",
    "x = 5\n",
    "print(x)  # Vytiskne 5\n",
    "funkce()\n",
    "print(x)  # Vytiskne 5? Nebo 10?"
   ]
  },
  {
   "cell_type": "markdown",
   "metadata": {},
   "source": [
    "\n",
    "2. Rozhodněte a otestujte:\n",
    "\n",
    "    ```python\n",
    "    x = 5\n",
    "\n",
    "    def vnejsi_funkce():\n",
    "        x = 10\n",
    "\n",
    "        def vnitrni_funkce():\n",
    "            print(x)  # Vytiskne 5, 10? Nebo chybu?\n",
    "\n",
    "        vnitrni_funkce()\n",
    "\n",
    "    vnejsi_funkce()\n",
    "    ```\n"
   ]
  },
  {
   "cell_type": "code",
   "execution_count": 4,
   "metadata": {},
   "outputs": [
    {
     "name": "stdout",
     "output_type": "stream",
     "text": [
      "10\n"
     ]
    }
   ],
   "source": [
    "# tak asi 10, protoze x = 10 je nelokalni prostor a tam se bude hledat drive nez v globalnim\n",
    "x = 5\n",
    "\n",
    "def vnejsi_funkce():\n",
    "    x = 10\n",
    "    def vnitrni_funkce():\n",
    "        print(x)  # Vytiskne 5, 10? Nebo chybu?\n",
    "    vnitrni_funkce()\n",
    "\n",
    "vnejsi_funkce()"
   ]
  },
  {
   "cell_type": "markdown",
   "metadata": {},
   "source": [
    "\n",
    "3. Rozhodněte a otestujte:\n",
    "\n",
    "    ```python\n",
    "    x = 10\n",
    "\n",
    "    def funkce():\n",
    "        x += 1\n",
    "\n",
    "    funkce()\n",
    "\n",
    "    print(x)  # Co se vytiskne?\n",
    "    ```"
   ]
  },
  {
   "cell_type": "code",
   "execution_count": 6,
   "metadata": {},
   "outputs": [
    {
     "ename": "UnboundLocalError",
     "evalue": "local variable 'x' referenced before assignment",
     "output_type": "error",
     "traceback": [
      "\u001b[0;31m---------------------------------------------------------------------------\u001b[0m",
      "\u001b[0;31mUnboundLocalError\u001b[0m                         Traceback (most recent call last)",
      "Cell \u001b[0;32mIn[6], line 6\u001b[0m\n\u001b[1;32m      3\u001b[0m \u001b[38;5;28;01mdef\u001b[39;00m \u001b[38;5;21mfunkce\u001b[39m():\n\u001b[1;32m      4\u001b[0m     x \u001b[38;5;241m+\u001b[39m\u001b[38;5;241m=\u001b[39m \u001b[38;5;241m1\u001b[39m\n\u001b[0;32m----> 6\u001b[0m \u001b[43mfunkce\u001b[49m\u001b[43m(\u001b[49m\u001b[43m)\u001b[49m\n\u001b[1;32m      8\u001b[0m \u001b[38;5;28mprint\u001b[39m(x)  \u001b[38;5;66;03m# Co se vytiskne? chyba\u001b[39;00m\n",
      "Cell \u001b[0;32mIn[6], line 4\u001b[0m, in \u001b[0;36mfunkce\u001b[0;34m()\u001b[0m\n\u001b[1;32m      3\u001b[0m \u001b[38;5;28;01mdef\u001b[39;00m \u001b[38;5;21mfunkce\u001b[39m():\n\u001b[0;32m----> 4\u001b[0m     x \u001b[38;5;241m+\u001b[39m\u001b[38;5;241m=\u001b[39m \u001b[38;5;241m1\u001b[39m\n",
      "\u001b[0;31mUnboundLocalError\u001b[0m: local variable 'x' referenced before assignment"
     ]
    }
   ],
   "source": [
    "x = 10\n",
    "\n",
    "def funkce():\n",
    "    x += 1\n",
    "\n",
    "funkce()\n",
    "\n",
    "print(x)  # Co se vytiskne? chyba"
   ]
  },
  {
   "cell_type": "markdown",
   "metadata": {},
   "source": [
    "\n",
    "4. Upravte funkci nalézající prvočísla tak, aby ukládala již spočítané prvočísla do listu v defaultním argumentu funkce. \n",
    "\n",
    "- Tedy, při volání funkce zkontroluje list prvočísel, které už byly spočítány a případně dopočítá další prvočísla, pokud to požadovaný počet vyžaduje.\n",
    "- Vrátí vždy **kopii** části listu prvočísel, která odpovídá požadovanému počtu prvočísel."
   ]
  },
  {
   "cell_type": "code",
   "execution_count": 7,
   "metadata": {},
   "outputs": [
    {
     "data": {
      "text/plain": [
       "[2, 3, 5, 7, 11, 13, 17, 19, 23, 29]"
      ]
     },
     "execution_count": 7,
     "metadata": {},
     "output_type": "execute_result"
    }
   ],
   "source": [
    "# original implementation\n",
    "def najdi_n_prvocisel(n):\n",
    "    prvocisla = []\n",
    "    i = 2\n",
    "    while len(prvocisla) < n:\n",
    "        je_prvocislo = True\n",
    "        for prvocislo in prvocisla:\n",
    "            if i % prvocislo == 0:\n",
    "                je_prvocislo = False\n",
    "                break\n",
    "        if je_prvocislo:\n",
    "            prvocisla.append(i)\n",
    "        i += 1\n",
    "    return prvocisla\n",
    "\n",
    "najdi_n_prvocisel(10)"
   ]
  },
  {
   "cell_type": "code",
   "execution_count": 15,
   "metadata": {},
   "outputs": [
    {
     "name": "stdout",
     "output_type": "stream",
     "text": [
      "[2, 3, 5, 7, 11, 13, 17, 19, 23, 29]\n",
      "[2, 3]\n",
      "[2, 3, 5, 7, 11]\n",
      "[2, 3, 5, 7, 11, 13, 17, 19, 23, 29, 31, 37, 41, 43, 47, 53, 59, 61]\n"
     ]
    }
   ],
   "source": [
    "# new implementation\n",
    "def najdi_n_prvocisel2( n, prvocisla = []):\n",
    "    i = 2\n",
    "    while len(prvocisla) < n:\n",
    "        je_prvocislo = True\n",
    "        for prvocislo in prvocisla:\n",
    "            if i % prvocislo == 0:\n",
    "                je_prvocislo = False\n",
    "                break\n",
    "        if je_prvocislo:\n",
    "            prvocisla.append(i)\n",
    "        i += 1\n",
    "    return prvocisla[:n]\n",
    "\n",
    "print(najdi_n_prvocisel2(10))\n",
    "print(najdi_n_prvocisel2(2))\n",
    "print(najdi_n_prvocisel2(5))\n",
    "print(najdi_n_prvocisel2(18))"
   ]
  },
  {
   "cell_type": "markdown",
   "metadata": {},
   "source": [
    "5. Vytvořte proměnnou `nejaka_prommena` a přiřaďte jí nějakou hodnotu. \n",
    "\n",
    "- pomocí `globals()` změňte hodnotu proměnné `nejaka_prommena` na jinou hodnotu, zkontrolujte, že se hodnota změnila.\n",
    "- pomocí `globals()` vytvořte novou proměnnou `nejaka_jina_prommena` a přiřaďte jí nějakou hodnotu, zkontrolujte, že se proměnná vytvořila."
   ]
  },
  {
   "cell_type": "code",
   "execution_count": 22,
   "metadata": {},
   "outputs": [
    {
     "name": "stdout",
     "output_type": "stream",
     "text": [
      "7\n",
      "17\n",
      "666\n",
      "{'__name__': '__main__', '__doc__': 'Automatically created module for IPython interactive environment', '__package__': None, '__loader__': None, '__spec__': None, '__builtin__': <module 'builtins' (built-in)>, '__builtins__': <module 'builtins' (built-in)>, '_ih': ['', '# druhe zavolani vytiskne 10\\ndef funkce():\\n        x = 10\\n\\nx = 5\\nprint(x)  # Vytiskne 5\\nfunkce()\\nprint(x)  # Vytiskne 5? Nebo 10?', '# druhe zavolani vytiskne 5, protoze x = 10 plati lokalne pouze fe funkci funkce()\\ndef funkce():\\n        x = 10\\n\\nx = 5\\nprint(x)  # Vytiskne 5\\nfunkce()\\nprint(x)  # Vytiskne 5? Nebo 10?', '# tady to vidim na chybu, myslim, ze UnboundError nebo tak neco\\nx = 5\\n\\ndef vnejsi_funkce():\\n    x = 10\\n    def vnitrni_funkce():\\n        print(x)  # Vytiskne 5, 10? Nebo chybu?\\n    vnitrni_funkce()\\n\\nvnejsi_funkce()', '# tak asi 10, protoze x = 10 je nelokalni prostor a tam se bude hledat drive nez v globalnim\\nx = 5\\n\\ndef vnejsi_funkce():\\n    x = 10\\n    def vnitrni_funkce():\\n        print(x)  # Vytiskne 5, 10? Nebo chybu?\\n    vnitrni_funkce()\\n\\nvnejsi_funkce()', 'x = 10\\n\\ndef funkce():\\n    x += 1\\n\\nfunkce()\\n\\nprint(x)  # Co se vytiskne?', 'x = 10\\n\\ndef funkce():\\n    x += 1\\n\\nfunkce()\\n\\nprint(x)  # Co se vytiskne? chyba', 'def najdi_n_prvocisel(n):\\n    prvocisla = []\\n    i = 2\\n    while len(prvocisla) < n:\\n        je_prvocislo = True\\n        for prvocislo in prvocisla:\\n            if i % prvocislo == 0:\\n                je_prvocislo = False\\n                break\\n        if je_prvocislo:\\n            prvocisla.append(i)\\n        i += 1\\n    return prvocisla\\n\\nnajdi_n_prvocisel(10)', 'def najdi_n_prvocisel2( n, prvocisla = []):\\n    #prvocisla = []\\n    i = 2\\n    while len(prvocisla) < n:\\n        je_prvocislo = True\\n        for prvocislo in prvocisla:\\n            if i % prvocislo == 0:\\n                je_prvocislo = False\\n                break\\n        if je_prvocislo:\\n            prvocisla.append(i)\\n        i += 1\\n    return prvocisla\\n\\nnajdi_n_prvocisel2(10)', 'def najdi_n_prvocisel2( n, prvocisla = []):\\n    #prvocisla = []\\n    i = 2\\n    while len(prvocisla) < n:\\n        je_prvocislo = True\\n        for prvocislo in prvocisla:\\n            if i % prvocislo == 0:\\n                je_prvocislo = False\\n                break\\n        if je_prvocislo:\\n            prvocisla.append(i)\\n        i += 1\\n    return prvocisla\\n\\nnajdi_n_prvocisel2(10)\\nnajdi_n_prvocisel2(2)', 'def najdi_n_prvocisel2( n, prvocisla = []):\\n    #prvocisla = []\\n    i = 2\\n    while len(prvocisla) < n:\\n        je_prvocislo = True\\n        for prvocislo in prvocisla:\\n            if i % prvocislo == 0:\\n                je_prvocislo = False\\n                break\\n        if je_prvocislo:\\n            prvocisla.append(i)\\n        i += 1\\n    return prvocisla\\n\\nnajdi_n_prvocisel2(10)\\nnajdi_n_prvocisel2(200)', 'def najdi_n_prvocisel2( n, prvocisla = []):\\n    #prvocisla = []\\n    i = 2\\n    while len(prvocisla) < n:\\n        je_prvocislo = True\\n        for prvocislo in prvocisla:\\n            if i % prvocislo == 0:\\n                je_prvocislo = False\\n                break\\n        if je_prvocislo:\\n            prvocisla.append(i)\\n        i += 1\\n    return prvocisla\\n\\nnajdi_n_prvocisel2(10)\\nnajdi_n_prvocisel2(20)', '# new implementation\\ndef najdi_n_prvocisel2( n, prvocisla = []):\\n    #prvocisla = []\\n    i = 2\\n    while len(prvocisla) < n:\\n        je_prvocislo = True\\n        for prvocislo in prvocisla:\\n            if i % prvocislo == 0:\\n                je_prvocislo = False\\n                break\\n        if je_prvocislo:\\n            prvocisla.append(i)\\n        i += 1\\n    return prvocisla[:n]\\n\\nnajdi_n_prvocisel2(10)\\nnajdi_n_prvocisel2(20)', '# new implementation\\ndef najdi_n_prvocisel2( n, prvocisla = []):\\n    #prvocisla = []\\n    i = 2\\n    while len(prvocisla) < n:\\n        je_prvocislo = True\\n        for prvocislo in prvocisla:\\n            if i % prvocislo == 0:\\n                je_prvocislo = False\\n                break\\n        if je_prvocislo:\\n            prvocisla.append(i)\\n        i += 1\\n    return prvocisla[:n]\\n\\nnajdi_n_prvocisel2(10)\\nnajdi_n_prvocisel2(2)', '# new implementation\\ndef najdi_n_prvocisel2( n, prvocisla = []):\\n    #prvocisla = []\\n    i = 2\\n    while len(prvocisla) < n:\\n        je_prvocislo = True\\n        for prvocislo in prvocisla:\\n            if i % prvocislo == 0:\\n                je_prvocislo = False\\n                break\\n        if je_prvocislo:\\n            prvocisla.append(i)\\n        i += 1\\n    return prvocisla[:n]\\n\\nprint(najdi_n_prvocisel2(10))\\nprint(najdi_n_prvocisel2(2))', '# new implementation\\ndef najdi_n_prvocisel2( n, prvocisla = []):\\n    i = 2\\n    while len(prvocisla) < n:\\n        je_prvocislo = True\\n        for prvocislo in prvocisla:\\n            if i % prvocislo == 0:\\n                je_prvocislo = False\\n                break\\n        if je_prvocislo:\\n            prvocisla.append(i)\\n        i += 1\\n    return prvocisla[:n]\\n\\nprint(najdi_n_prvocisel2(10))\\nprint(najdi_n_prvocisel2(2))\\nprint(najdi_n_prvocisel2(5))\\nprint(najdi_n_prvocisel2(18))', 'nejaka_promena = 7\\nglobals()[nejaka_promena] = 8', 'nejaka_promena = 7\\nglobals()[nejaka_promena] = 8\\nprint(nejaka_promena)', 'nejaka_promena = 7\\nglobals()[\"nejaka_promena\"] = 8\\nprint(nejaka_promena)', 'nejaka_promena = 7\\nprint(nejaka_promena)\\nglobals()[\"nejaka_promena\"] = 8\\nprint(nejaka_promena)', 'nejaka_promena = 7\\nprint(nejaka_promena)\\nglobals()[\"nejaka_promena\"] = 17\\nprint(nejaka_promena)', 'nejaka_promena = 7\\nprint(nejaka_promena)\\nglobals()[\"nejaka_promena\"] = 17\\nprint(nejaka_promena)\\n\\nglobals()[\"nejaka_jina_promena\"] = 666\\nprint(nejaka_jina_promena)', 'nejaka_promena = 7\\nprint(nejaka_promena)\\nglobals()[\"nejaka_promena\"] = 17\\nprint(nejaka_promena)\\n\\nglobals()[\"nejaka_jina_promena\"] = 666\\nprint(nejaka_jina_promena)\\nprint(globals())'], '_oh': {7: [2, 3, 5, 7, 11, 13, 17, 19, 23, 29], 8: [2, 3, 5, 7, 11, 13, 17, 19, 23, 29], 9: [2, 3, 5, 7, 11, 13, 17, 19, 23, 29], 10: [2, 3, 5, 7, 11, 13, 17, 19, 23, 29, 31, 37, 41, 43, 47, 53, 59, 61, 67, 71, 73, 79, 83, 89, 97, 101, 103, 107, 109, 113, 127, 131, 137, 139, 149, 151, 157, 163, 167, 173, 179, 181, 191, 193, 197, 199, 211, 223, 227, 229, 233, 239, 241, 251, 257, 263, 269, 271, 277, 281, 283, 293, 307, 311, 313, 317, 331, 337, 347, 349, 353, 359, 367, 373, 379, 383, 389, 397, 401, 409, 419, 421, 431, 433, 439, 443, 449, 457, 461, 463, 467, 479, 487, 491, 499, 503, 509, 521, 523, 541, 547, 557, 563, 569, 571, 577, 587, 593, 599, 601, 607, 613, 617, 619, 631, 641, 643, 647, 653, 659, 661, 673, 677, 683, 691, 701, 709, 719, 727, 733, 739, 743, 751, 757, 761, 769, 773, 787, 797, 809, 811, 821, 823, 827, 829, 839, 853, 857, 859, 863, 877, 881, 883, 887, 907, 911, 919, 929, 937, 941, 947, 953, 967, 971, 977, 983, 991, 997, 1009, 1013, 1019, 1021, 1031, 1033, 1039, 1049, 1051, 1061, 1063, 1069, 1087, 1091, 1093, 1097, 1103, 1109, 1117, 1123, 1129, 1151, 1153, 1163, 1171, 1181, 1187, 1193, 1201, 1213, 1217, 1223], 11: [2, 3, 5, 7, 11, 13, 17, 19, 23, 29, 31, 37, 41, 43, 47, 53, 59, 61, 67, 71], 12: [2, 3, 5, 7, 11, 13, 17, 19, 23, 29, 31, 37, 41, 43, 47, 53, 59, 61, 67, 71], 13: [2, 3]}, '_dh': [PosixPath('/home/alexandr/Dokumenty/vvp-practise/week_04'), PosixPath('/home/alexandr/Dokumenty/vvp-practise/week_04')], 'In': ['', '# druhe zavolani vytiskne 10\\ndef funkce():\\n        x = 10\\n\\nx = 5\\nprint(x)  # Vytiskne 5\\nfunkce()\\nprint(x)  # Vytiskne 5? Nebo 10?', '# druhe zavolani vytiskne 5, protoze x = 10 plati lokalne pouze fe funkci funkce()\\ndef funkce():\\n        x = 10\\n\\nx = 5\\nprint(x)  # Vytiskne 5\\nfunkce()\\nprint(x)  # Vytiskne 5? Nebo 10?', '# tady to vidim na chybu, myslim, ze UnboundError nebo tak neco\\nx = 5\\n\\ndef vnejsi_funkce():\\n    x = 10\\n    def vnitrni_funkce():\\n        print(x)  # Vytiskne 5, 10? Nebo chybu?\\n    vnitrni_funkce()\\n\\nvnejsi_funkce()', '# tak asi 10, protoze x = 10 je nelokalni prostor a tam se bude hledat drive nez v globalnim\\nx = 5\\n\\ndef vnejsi_funkce():\\n    x = 10\\n    def vnitrni_funkce():\\n        print(x)  # Vytiskne 5, 10? Nebo chybu?\\n    vnitrni_funkce()\\n\\nvnejsi_funkce()', 'x = 10\\n\\ndef funkce():\\n    x += 1\\n\\nfunkce()\\n\\nprint(x)  # Co se vytiskne?', 'x = 10\\n\\ndef funkce():\\n    x += 1\\n\\nfunkce()\\n\\nprint(x)  # Co se vytiskne? chyba', 'def najdi_n_prvocisel(n):\\n    prvocisla = []\\n    i = 2\\n    while len(prvocisla) < n:\\n        je_prvocislo = True\\n        for prvocislo in prvocisla:\\n            if i % prvocislo == 0:\\n                je_prvocislo = False\\n                break\\n        if je_prvocislo:\\n            prvocisla.append(i)\\n        i += 1\\n    return prvocisla\\n\\nnajdi_n_prvocisel(10)', 'def najdi_n_prvocisel2( n, prvocisla = []):\\n    #prvocisla = []\\n    i = 2\\n    while len(prvocisla) < n:\\n        je_prvocislo = True\\n        for prvocislo in prvocisla:\\n            if i % prvocislo == 0:\\n                je_prvocislo = False\\n                break\\n        if je_prvocislo:\\n            prvocisla.append(i)\\n        i += 1\\n    return prvocisla\\n\\nnajdi_n_prvocisel2(10)', 'def najdi_n_prvocisel2( n, prvocisla = []):\\n    #prvocisla = []\\n    i = 2\\n    while len(prvocisla) < n:\\n        je_prvocislo = True\\n        for prvocislo in prvocisla:\\n            if i % prvocislo == 0:\\n                je_prvocislo = False\\n                break\\n        if je_prvocislo:\\n            prvocisla.append(i)\\n        i += 1\\n    return prvocisla\\n\\nnajdi_n_prvocisel2(10)\\nnajdi_n_prvocisel2(2)', 'def najdi_n_prvocisel2( n, prvocisla = []):\\n    #prvocisla = []\\n    i = 2\\n    while len(prvocisla) < n:\\n        je_prvocislo = True\\n        for prvocislo in prvocisla:\\n            if i % prvocislo == 0:\\n                je_prvocislo = False\\n                break\\n        if je_prvocislo:\\n            prvocisla.append(i)\\n        i += 1\\n    return prvocisla\\n\\nnajdi_n_prvocisel2(10)\\nnajdi_n_prvocisel2(200)', 'def najdi_n_prvocisel2( n, prvocisla = []):\\n    #prvocisla = []\\n    i = 2\\n    while len(prvocisla) < n:\\n        je_prvocislo = True\\n        for prvocislo in prvocisla:\\n            if i % prvocislo == 0:\\n                je_prvocislo = False\\n                break\\n        if je_prvocislo:\\n            prvocisla.append(i)\\n        i += 1\\n    return prvocisla\\n\\nnajdi_n_prvocisel2(10)\\nnajdi_n_prvocisel2(20)', '# new implementation\\ndef najdi_n_prvocisel2( n, prvocisla = []):\\n    #prvocisla = []\\n    i = 2\\n    while len(prvocisla) < n:\\n        je_prvocislo = True\\n        for prvocislo in prvocisla:\\n            if i % prvocislo == 0:\\n                je_prvocislo = False\\n                break\\n        if je_prvocislo:\\n            prvocisla.append(i)\\n        i += 1\\n    return prvocisla[:n]\\n\\nnajdi_n_prvocisel2(10)\\nnajdi_n_prvocisel2(20)', '# new implementation\\ndef najdi_n_prvocisel2( n, prvocisla = []):\\n    #prvocisla = []\\n    i = 2\\n    while len(prvocisla) < n:\\n        je_prvocislo = True\\n        for prvocislo in prvocisla:\\n            if i % prvocislo == 0:\\n                je_prvocislo = False\\n                break\\n        if je_prvocislo:\\n            prvocisla.append(i)\\n        i += 1\\n    return prvocisla[:n]\\n\\nnajdi_n_prvocisel2(10)\\nnajdi_n_prvocisel2(2)', '# new implementation\\ndef najdi_n_prvocisel2( n, prvocisla = []):\\n    #prvocisla = []\\n    i = 2\\n    while len(prvocisla) < n:\\n        je_prvocislo = True\\n        for prvocislo in prvocisla:\\n            if i % prvocislo == 0:\\n                je_prvocislo = False\\n                break\\n        if je_prvocislo:\\n            prvocisla.append(i)\\n        i += 1\\n    return prvocisla[:n]\\n\\nprint(najdi_n_prvocisel2(10))\\nprint(najdi_n_prvocisel2(2))', '# new implementation\\ndef najdi_n_prvocisel2( n, prvocisla = []):\\n    i = 2\\n    while len(prvocisla) < n:\\n        je_prvocislo = True\\n        for prvocislo in prvocisla:\\n            if i % prvocislo == 0:\\n                je_prvocislo = False\\n                break\\n        if je_prvocislo:\\n            prvocisla.append(i)\\n        i += 1\\n    return prvocisla[:n]\\n\\nprint(najdi_n_prvocisel2(10))\\nprint(najdi_n_prvocisel2(2))\\nprint(najdi_n_prvocisel2(5))\\nprint(najdi_n_prvocisel2(18))', 'nejaka_promena = 7\\nglobals()[nejaka_promena] = 8', 'nejaka_promena = 7\\nglobals()[nejaka_promena] = 8\\nprint(nejaka_promena)', 'nejaka_promena = 7\\nglobals()[\"nejaka_promena\"] = 8\\nprint(nejaka_promena)', 'nejaka_promena = 7\\nprint(nejaka_promena)\\nglobals()[\"nejaka_promena\"] = 8\\nprint(nejaka_promena)', 'nejaka_promena = 7\\nprint(nejaka_promena)\\nglobals()[\"nejaka_promena\"] = 17\\nprint(nejaka_promena)', 'nejaka_promena = 7\\nprint(nejaka_promena)\\nglobals()[\"nejaka_promena\"] = 17\\nprint(nejaka_promena)\\n\\nglobals()[\"nejaka_jina_promena\"] = 666\\nprint(nejaka_jina_promena)', 'nejaka_promena = 7\\nprint(nejaka_promena)\\nglobals()[\"nejaka_promena\"] = 17\\nprint(nejaka_promena)\\n\\nglobals()[\"nejaka_jina_promena\"] = 666\\nprint(nejaka_jina_promena)\\nprint(globals())'], 'Out': {7: [2, 3, 5, 7, 11, 13, 17, 19, 23, 29], 8: [2, 3, 5, 7, 11, 13, 17, 19, 23, 29], 9: [2, 3, 5, 7, 11, 13, 17, 19, 23, 29], 10: [2, 3, 5, 7, 11, 13, 17, 19, 23, 29, 31, 37, 41, 43, 47, 53, 59, 61, 67, 71, 73, 79, 83, 89, 97, 101, 103, 107, 109, 113, 127, 131, 137, 139, 149, 151, 157, 163, 167, 173, 179, 181, 191, 193, 197, 199, 211, 223, 227, 229, 233, 239, 241, 251, 257, 263, 269, 271, 277, 281, 283, 293, 307, 311, 313, 317, 331, 337, 347, 349, 353, 359, 367, 373, 379, 383, 389, 397, 401, 409, 419, 421, 431, 433, 439, 443, 449, 457, 461, 463, 467, 479, 487, 491, 499, 503, 509, 521, 523, 541, 547, 557, 563, 569, 571, 577, 587, 593, 599, 601, 607, 613, 617, 619, 631, 641, 643, 647, 653, 659, 661, 673, 677, 683, 691, 701, 709, 719, 727, 733, 739, 743, 751, 757, 761, 769, 773, 787, 797, 809, 811, 821, 823, 827, 829, 839, 853, 857, 859, 863, 877, 881, 883, 887, 907, 911, 919, 929, 937, 941, 947, 953, 967, 971, 977, 983, 991, 997, 1009, 1013, 1019, 1021, 1031, 1033, 1039, 1049, 1051, 1061, 1063, 1069, 1087, 1091, 1093, 1097, 1103, 1109, 1117, 1123, 1129, 1151, 1153, 1163, 1171, 1181, 1187, 1193, 1201, 1213, 1217, 1223], 11: [2, 3, 5, 7, 11, 13, 17, 19, 23, 29, 31, 37, 41, 43, 47, 53, 59, 61, 67, 71], 12: [2, 3, 5, 7, 11, 13, 17, 19, 23, 29, 31, 37, 41, 43, 47, 53, 59, 61, 67, 71], 13: [2, 3]}, 'get_ipython': <bound method InteractiveShell.get_ipython of <ipykernel.zmqshell.ZMQInteractiveShell object at 0x7f20ad8e49d0>>, 'exit': <IPython.core.autocall.ZMQExitAutocall object at 0x7f20ad8e57b0>, 'quit': <IPython.core.autocall.ZMQExitAutocall object at 0x7f20ad8e57b0>, 'open': <function open at 0x7f20ae72f2e0>, '_': [2, 3], '__': [2, 3, 5, 7, 11, 13, 17, 19, 23, 29, 31, 37, 41, 43, 47, 53, 59, 61, 67, 71], '___': [2, 3, 5, 7, 11, 13, 17, 19, 23, 29, 31, 37, 41, 43, 47, 53, 59, 61, 67, 71], '__vsc_ipynb_file__': '/home/alexandr/Dokumenty/vvp-practise/week_04/04_ukoly.ipynb', '_i': 'nejaka_promena = 7\\nprint(nejaka_promena)\\nglobals()[\"nejaka_promena\"] = 17\\nprint(nejaka_promena)\\n\\nglobals()[\"nejaka_jina_promena\"] = 666\\nprint(nejaka_jina_promena)', '_ii': 'nejaka_promena = 7\\nprint(nejaka_promena)\\nglobals()[\"nejaka_promena\"] = 17\\nprint(nejaka_promena)', '_iii': 'nejaka_promena = 7\\nprint(nejaka_promena)\\nglobals()[\"nejaka_promena\"] = 8\\nprint(nejaka_promena)', '_i1': '# druhe zavolani vytiskne 10\\ndef funkce():\\n        x = 10\\n\\nx = 5\\nprint(x)  # Vytiskne 5\\nfunkce()\\nprint(x)  # Vytiskne 5? Nebo 10?', 'funkce': <function funkce at 0x7f20a4596200>, 'x': 10, '_i2': '# druhe zavolani vytiskne 5, protoze x = 10 plati lokalne pouze fe funkci funkce()\\ndef funkce():\\n        x = 10\\n\\nx = 5\\nprint(x)  # Vytiskne 5\\nfunkce()\\nprint(x)  # Vytiskne 5? Nebo 10?', '_i3': '# tady to vidim na chybu, myslim, ze UnboundError nebo tak neco\\nx = 5\\n\\ndef vnejsi_funkce():\\n    x = 10\\n    def vnitrni_funkce():\\n        print(x)  # Vytiskne 5, 10? Nebo chybu?\\n    vnitrni_funkce()\\n\\nvnejsi_funkce()', 'vnejsi_funkce': <function vnejsi_funkce at 0x7f20a46700d0>, '_i4': '# tak asi 10, protoze x = 10 je nelokalni prostor a tam se bude hledat drive nez v globalnim\\nx = 5\\n\\ndef vnejsi_funkce():\\n    x = 10\\n    def vnitrni_funkce():\\n        print(x)  # Vytiskne 5, 10? Nebo chybu?\\n    vnitrni_funkce()\\n\\nvnejsi_funkce()', '_i5': 'x = 10\\n\\ndef funkce():\\n    x += 1\\n\\nfunkce()\\n\\nprint(x)  # Co se vytiskne?', '_i6': 'x = 10\\n\\ndef funkce():\\n    x += 1\\n\\nfunkce()\\n\\nprint(x)  # Co se vytiskne? chyba', '_i7': 'def najdi_n_prvocisel(n):\\n    prvocisla = []\\n    i = 2\\n    while len(prvocisla) < n:\\n        je_prvocislo = True\\n        for prvocislo in prvocisla:\\n            if i % prvocislo == 0:\\n                je_prvocislo = False\\n                break\\n        if je_prvocislo:\\n            prvocisla.append(i)\\n        i += 1\\n    return prvocisla\\n\\nnajdi_n_prvocisel(10)', 'najdi_n_prvocisel': <function najdi_n_prvocisel at 0x7f20a46701f0>, '_7': [2, 3, 5, 7, 11, 13, 17, 19, 23, 29], '_i8': 'def najdi_n_prvocisel2( n, prvocisla = []):\\n    #prvocisla = []\\n    i = 2\\n    while len(prvocisla) < n:\\n        je_prvocislo = True\\n        for prvocislo in prvocisla:\\n            if i % prvocislo == 0:\\n                je_prvocislo = False\\n                break\\n        if je_prvocislo:\\n            prvocisla.append(i)\\n        i += 1\\n    return prvocisla\\n\\nnajdi_n_prvocisel2(10)', 'najdi_n_prvocisel2': <function najdi_n_prvocisel2 at 0x7f20a4763490>, '_8': [2, 3, 5, 7, 11, 13, 17, 19, 23, 29], '_i9': 'def najdi_n_prvocisel2( n, prvocisla = []):\\n    #prvocisla = []\\n    i = 2\\n    while len(prvocisla) < n:\\n        je_prvocislo = True\\n        for prvocislo in prvocisla:\\n            if i % prvocislo == 0:\\n                je_prvocislo = False\\n                break\\n        if je_prvocislo:\\n            prvocisla.append(i)\\n        i += 1\\n    return prvocisla\\n\\nnajdi_n_prvocisel2(10)\\nnajdi_n_prvocisel2(2)', '_9': [2, 3, 5, 7, 11, 13, 17, 19, 23, 29], '_i10': 'def najdi_n_prvocisel2( n, prvocisla = []):\\n    #prvocisla = []\\n    i = 2\\n    while len(prvocisla) < n:\\n        je_prvocislo = True\\n        for prvocislo in prvocisla:\\n            if i % prvocislo == 0:\\n                je_prvocislo = False\\n                break\\n        if je_prvocislo:\\n            prvocisla.append(i)\\n        i += 1\\n    return prvocisla\\n\\nnajdi_n_prvocisel2(10)\\nnajdi_n_prvocisel2(200)', '_10': [2, 3, 5, 7, 11, 13, 17, 19, 23, 29, 31, 37, 41, 43, 47, 53, 59, 61, 67, 71, 73, 79, 83, 89, 97, 101, 103, 107, 109, 113, 127, 131, 137, 139, 149, 151, 157, 163, 167, 173, 179, 181, 191, 193, 197, 199, 211, 223, 227, 229, 233, 239, 241, 251, 257, 263, 269, 271, 277, 281, 283, 293, 307, 311, 313, 317, 331, 337, 347, 349, 353, 359, 367, 373, 379, 383, 389, 397, 401, 409, 419, 421, 431, 433, 439, 443, 449, 457, 461, 463, 467, 479, 487, 491, 499, 503, 509, 521, 523, 541, 547, 557, 563, 569, 571, 577, 587, 593, 599, 601, 607, 613, 617, 619, 631, 641, 643, 647, 653, 659, 661, 673, 677, 683, 691, 701, 709, 719, 727, 733, 739, 743, 751, 757, 761, 769, 773, 787, 797, 809, 811, 821, 823, 827, 829, 839, 853, 857, 859, 863, 877, 881, 883, 887, 907, 911, 919, 929, 937, 941, 947, 953, 967, 971, 977, 983, 991, 997, 1009, 1013, 1019, 1021, 1031, 1033, 1039, 1049, 1051, 1061, 1063, 1069, 1087, 1091, 1093, 1097, 1103, 1109, 1117, 1123, 1129, 1151, 1153, 1163, 1171, 1181, 1187, 1193, 1201, 1213, 1217, 1223], '_i11': 'def najdi_n_prvocisel2( n, prvocisla = []):\\n    #prvocisla = []\\n    i = 2\\n    while len(prvocisla) < n:\\n        je_prvocislo = True\\n        for prvocislo in prvocisla:\\n            if i % prvocislo == 0:\\n                je_prvocislo = False\\n                break\\n        if je_prvocislo:\\n            prvocisla.append(i)\\n        i += 1\\n    return prvocisla\\n\\nnajdi_n_prvocisel2(10)\\nnajdi_n_prvocisel2(20)', '_11': [2, 3, 5, 7, 11, 13, 17, 19, 23, 29, 31, 37, 41, 43, 47, 53, 59, 61, 67, 71], '_i12': '# new implementation\\ndef najdi_n_prvocisel2( n, prvocisla = []):\\n    #prvocisla = []\\n    i = 2\\n    while len(prvocisla) < n:\\n        je_prvocislo = True\\n        for prvocislo in prvocisla:\\n            if i % prvocislo == 0:\\n                je_prvocislo = False\\n                break\\n        if je_prvocislo:\\n            prvocisla.append(i)\\n        i += 1\\n    return prvocisla[:n]\\n\\nnajdi_n_prvocisel2(10)\\nnajdi_n_prvocisel2(20)', '_12': [2, 3, 5, 7, 11, 13, 17, 19, 23, 29, 31, 37, 41, 43, 47, 53, 59, 61, 67, 71], '_i13': '# new implementation\\ndef najdi_n_prvocisel2( n, prvocisla = []):\\n    #prvocisla = []\\n    i = 2\\n    while len(prvocisla) < n:\\n        je_prvocislo = True\\n        for prvocislo in prvocisla:\\n            if i % prvocislo == 0:\\n                je_prvocislo = False\\n                break\\n        if je_prvocislo:\\n            prvocisla.append(i)\\n        i += 1\\n    return prvocisla[:n]\\n\\nnajdi_n_prvocisel2(10)\\nnajdi_n_prvocisel2(2)', '_13': [2, 3], '_i14': '# new implementation\\ndef najdi_n_prvocisel2( n, prvocisla = []):\\n    #prvocisla = []\\n    i = 2\\n    while len(prvocisla) < n:\\n        je_prvocislo = True\\n        for prvocislo in prvocisla:\\n            if i % prvocislo == 0:\\n                je_prvocislo = False\\n                break\\n        if je_prvocislo:\\n            prvocisla.append(i)\\n        i += 1\\n    return prvocisla[:n]\\n\\nprint(najdi_n_prvocisel2(10))\\nprint(najdi_n_prvocisel2(2))', '_i15': '# new implementation\\ndef najdi_n_prvocisel2( n, prvocisla = []):\\n    i = 2\\n    while len(prvocisla) < n:\\n        je_prvocislo = True\\n        for prvocislo in prvocisla:\\n            if i % prvocislo == 0:\\n                je_prvocislo = False\\n                break\\n        if je_prvocislo:\\n            prvocisla.append(i)\\n        i += 1\\n    return prvocisla[:n]\\n\\nprint(najdi_n_prvocisel2(10))\\nprint(najdi_n_prvocisel2(2))\\nprint(najdi_n_prvocisel2(5))\\nprint(najdi_n_prvocisel2(18))', '_i16': 'nejaka_promena = 7\\nglobals()[nejaka_promena] = 8', 'nejaka_promena': 17, 7: 8, '_i17': 'nejaka_promena = 7\\nglobals()[nejaka_promena] = 8\\nprint(nejaka_promena)', '_i18': 'nejaka_promena = 7\\nglobals()[\"nejaka_promena\"] = 8\\nprint(nejaka_promena)', '_i19': 'nejaka_promena = 7\\nprint(nejaka_promena)\\nglobals()[\"nejaka_promena\"] = 8\\nprint(nejaka_promena)', '_i20': 'nejaka_promena = 7\\nprint(nejaka_promena)\\nglobals()[\"nejaka_promena\"] = 17\\nprint(nejaka_promena)', '_i21': 'nejaka_promena = 7\\nprint(nejaka_promena)\\nglobals()[\"nejaka_promena\"] = 17\\nprint(nejaka_promena)\\n\\nglobals()[\"nejaka_jina_promena\"] = 666\\nprint(nejaka_jina_promena)', 'nejaka_jina_promena': 666, '_i22': 'nejaka_promena = 7\\nprint(nejaka_promena)\\nglobals()[\"nejaka_promena\"] = 17\\nprint(nejaka_promena)\\n\\nglobals()[\"nejaka_jina_promena\"] = 666\\nprint(nejaka_jina_promena)\\nprint(globals())'}\n"
     ]
    }
   ],
   "source": [
    "nejaka_promena = 7\n",
    "print(nejaka_promena)\n",
    "globals()[\"nejaka_promena\"] = 17\n",
    "print(nejaka_promena)\n",
    "\n",
    "globals()[\"nejaka_jina_promena\"] = 666\n",
    "print(nejaka_jina_promena)"
   ]
  },
  {
   "cell_type": "markdown",
   "metadata": {},
   "source": [
    "# Třídy:"
   ]
  },
  {
   "cell_type": "markdown",
   "metadata": {},
   "source": [
    "1. Vytvořte funkci, která pro libovolný vstupní objekt vypíše název jeho třídy (použijte atribut `__class__` a atribut `__name__`, který má automaticky každá třída)."
   ]
  },
  {
   "cell_type": "code",
   "execution_count": 28,
   "metadata": {},
   "outputs": [
    {
     "name": "stdout",
     "output_type": "stream",
     "text": [
      "Class: str\n",
      "Class: int\n",
      "Class: bool\n",
      "Class: list\n"
     ]
    }
   ],
   "source": [
    "def get_class(object):\n",
    "    print(f\"Class: {object.__class__.__name__}\")\n",
    "\n",
    "get_class(\"ahoj\")\n",
    "get_class(15)\n",
    "get_class(True)\n",
    "get_class([1, 2, 3, 4, 5])"
   ]
  },
  {
   "cell_type": "markdown",
   "metadata": {},
   "source": [
    "2. Vytvořte třídu implementující metodu `__call__`, která bude mít stejnou funkčnost jako funkce pro vypisování prvních `n` prvočísel (s ukládáním do defaultního argumentu)."
   ]
  },
  {
   "cell_type": "code",
   "execution_count": 35,
   "metadata": {},
   "outputs": [
    {
     "data": {
      "text/plain": [
       "[2, 3, 5, 7, 11]"
      ]
     },
     "execution_count": 35,
     "metadata": {},
     "output_type": "execute_result"
    }
   ],
   "source": [
    "class Primes:\n",
    "    def __init__(self):\n",
    "        self.primes = []\n",
    "\n",
    "    def __call__(self, n):\n",
    "        i = 2\n",
    "        while len(self.primes) < n:\n",
    "            is_prime = True\n",
    "            for prime in self.primes:\n",
    "                if i % prime == 0:\n",
    "                    is_prime = False\n",
    "                    break\n",
    "            if is_prime:\n",
    "                self.primes.append(i)\n",
    "            i += 1\n",
    "        return self.primes[:n]\n",
    " \n",
    "    \n",
    "primes = Primes()\n",
    "primes(5)"
   ]
  },
  {
   "cell_type": "markdown",
   "metadata": {},
   "source": [
    "3. Modifikujte třídu o implementaci metody `__getitem__`, která bude vracet prvočísla podle indexu (podporující jak celočíselné indexy, tak i indexy ve formě `slice`).\n",
    "\n",
    "- bude se vám hodit `isinstance` pro rozhodnutí zda je vstupní argument `slice` nebo `int`.\n",
    "- bude se vám hodit, že objekt typu `slice` má atributy `start`, `stop` a `step`."
   ]
  },
  {
   "cell_type": "code",
   "execution_count": 39,
   "metadata": {},
   "outputs": [
    {
     "ename": "TypeError",
     "evalue": "'Primes' object is not subscriptable",
     "output_type": "error",
     "traceback": [
      "\u001b[0;31m---------------------------------------------------------------------------\u001b[0m",
      "\u001b[0;31mTypeError\u001b[0m                                 Traceback (most recent call last)",
      "Cell \u001b[0;32mIn[39], line 25\u001b[0m\n\u001b[1;32m     23\u001b[0m primes \u001b[38;5;241m=\u001b[39m Primes()\n\u001b[1;32m     24\u001b[0m primes(\u001b[38;5;241m20\u001b[39m)\n\u001b[0;32m---> 25\u001b[0m \u001b[38;5;28mprint\u001b[39m(\u001b[43mprimes\u001b[49m\u001b[43m[\u001b[49m\u001b[38;5;241;43m0\u001b[39;49m\u001b[43m]\u001b[49m)\n",
      "\u001b[0;31mTypeError\u001b[0m: 'Primes' object is not subscriptable"
     ]
    }
   ],
   "source": [
    "class Primes:\n",
    "    def __init__(self):\n",
    "        self.primes = []\n",
    "\n",
    "    def __call__(self, n):\n",
    "        i = 2\n",
    "        while len(self.primes) < n:\n",
    "            is_prime = True\n",
    "            for prime in self.primes:\n",
    "                if i % prime == 0:\n",
    "                    is_prime = False\n",
    "                    break\n",
    "            if is_prime:\n",
    "                self.primes.append(i)\n",
    "            i += 1\n",
    "        return self.primes[:n]\n",
    "    \n",
    "    def __getiem__(self, index):\n",
    "        if isinstance(index, int):\n",
    "            return self.primes[index]\n",
    "        elif isinstance(index, slice):\n",
    "            \n",
    " \n",
    "    \n",
    "primes = Primes()\n",
    "primes(20)\n",
    "print(primes[0])"
   ]
  }
 ],
 "metadata": {
  "kernelspec": {
   "display_name": "Python 3",
   "language": "python",
   "name": "python3"
  },
  "language_info": {
   "codemirror_mode": {
    "name": "ipython",
    "version": 3
   },
   "file_extension": ".py",
   "mimetype": "text/x-python",
   "name": "python",
   "nbconvert_exporter": "python",
   "pygments_lexer": "ipython3",
   "version": "3.10.12"
  },
  "orig_nbformat": 4,
  "vscode": {
   "interpreter": {
    "hash": "e7370f93d1d0cde622a1f8e1c04877d8463912d04d973331ad4851f04de6915a"
   }
  }
 },
 "nbformat": 4,
 "nbformat_minor": 2
}
