{
 "cells": [
  {
   "attachments": {},
   "cell_type": "markdown",
   "metadata": {},
   "source": [
    "\n",
    "# Jupyter magics:\n",
    "1. Použijte funkci `%%writefile` a pomocí ní vytvořte .py soubor sloužící jako modul mající dvě funkce:\n",
    "\n",
    "```python\n",
    "def factorial_loop(n):\n",
    "    result = 1\n",
    "    for i in range(1, n + 1):\n",
    "        result *= i\n",
    "    return result\n",
    "\n",
    "def factorial_recursive(n):\n",
    "    if n == 1:\n",
    "        return 1\n",
    "    else:\n",
    "        return n * factorial_recursive(n - 1)\n",
    "```\n",
    "\n",
    "Modul pojmenujte `factorial.py`. Zkuste jej načíst a zavolat obě funkce."
   ]
  },
  {
   "cell_type": "code",
   "execution_count": 2,
   "metadata": {},
   "outputs": [
    {
     "name": "stdout",
     "output_type": "stream",
     "text": [
      "Overwriting factorial.py\n"
     ]
    }
   ],
   "source": [
    "%%writefile factorial.py\n",
    "def factorial_loop(n):\n",
    "    result = 1\n",
    "    for i in range(1, n + 1):\n",
    "        result *= i\n",
    "    return result\n",
    "\n",
    "\n",
    "def factorial_recursive(n):\n",
    "    if n == 0:\n",
    "        return 1\n",
    "    else:\n",
    "        return n * factorial_recursive(n - 1)"
   ]
  },
  {
   "cell_type": "code",
   "execution_count": 3,
   "metadata": {},
   "outputs": [
    {
     "name": "stdout",
     "output_type": "stream",
     "text": [
      "1\n",
      "1\n",
      "6\n",
      "6\n",
      "120\n",
      "120\n",
      "5040\n",
      "5040\n"
     ]
    }
   ],
   "source": [
    "import factorial\n",
    "\n",
    "print(  factorial.factorial_loop(0) )\n",
    "print(  factorial.factorial_recursive(0) )\n",
    "print(  factorial.factorial_loop(3) )\n",
    "print(  factorial.factorial_recursive(3) )\n",
    "print(  factorial.factorial_loop(5) )\n",
    "print(  factorial.factorial_recursive(5) )\n",
    "print(  factorial.factorial_loop(7) )\n",
    "print(  factorial.factorial_recursive(7) )"
   ]
  },
  {
   "cell_type": "markdown",
   "metadata": {},
   "source": [
    "2. Použijte magic příkazy `%time %timeit %%time` a `%%timeit` k měření času běhu dvou variant výpočtu faktroriálu (např. pro `n=200`).\n"
   ]
  },
  {
   "cell_type": "code",
   "execution_count": 4,
   "metadata": {},
   "outputs": [
    {
     "name": "stdout",
     "output_type": "stream",
     "text": [
      "CPU times: user 22 µs, sys: 2 µs, total: 24 µs\n",
      "Wall time: 27.9 µs\n",
      "CPU times: user 190 µs, sys: 22 µs, total: 212 µs\n",
      "Wall time: 218 µs\n",
      "14.8 µs ± 283 ns per loop (mean ± std. dev. of 7 runs, 100,000 loops each)\n",
      "29.9 µs ± 188 ns per loop (mean ± std. dev. of 7 runs, 10,000 loops each)\n"
     ]
    }
   ],
   "source": [
    "%time factorial.factorial_loop(200)\n",
    "%time factorial.factorial_recursive(200)\n",
    "\n",
    "%timeit factorial.factorial_loop(200)\n",
    "%timeit factorial.factorial_recursive(200)"
   ]
  },
  {
   "cell_type": "code",
   "execution_count": 5,
   "metadata": {},
   "outputs": [
    {
     "name": "stdout",
     "output_type": "stream",
     "text": [
      "CPU times: user 55 µs, sys: 0 ns, total: 55 µs\n",
      "Wall time: 59.8 µs\n"
     ]
    },
    {
     "data": {
      "text/plain": [
       "788657867364790503552363213932185062295135977687173263294742533244359449963403342920304284011984623904177212138919638830257642790242637105061926624952829931113462857270763317237396988943922445621451664240254033291864131227428294853277524242407573903240321257405579568660226031904170324062351700858796178922222789623703897374720000000000000000000000000000000000000000000000000"
      ]
     },
     "execution_count": 5,
     "metadata": {},
     "output_type": "execute_result"
    }
   ],
   "source": [
    "%%time\n",
    "factorial.factorial_loop(200)"
   ]
  },
  {
   "cell_type": "code",
   "execution_count": 6,
   "metadata": {},
   "outputs": [
    {
     "name": "stdout",
     "output_type": "stream",
     "text": [
      "CPU times: user 112 µs, sys: 0 ns, total: 112 µs\n",
      "Wall time: 118 µs\n"
     ]
    },
    {
     "data": {
      "text/plain": [
       "788657867364790503552363213932185062295135977687173263294742533244359449963403342920304284011984623904177212138919638830257642790242637105061926624952829931113462857270763317237396988943922445621451664240254033291864131227428294853277524242407573903240321257405579568660226031904170324062351700858796178922222789623703897374720000000000000000000000000000000000000000000000000"
      ]
     },
     "execution_count": 6,
     "metadata": {},
     "output_type": "execute_result"
    }
   ],
   "source": [
    "%%time\n",
    "factorial.factorial_recursive(200)"
   ]
  },
  {
   "cell_type": "code",
   "execution_count": 7,
   "metadata": {},
   "outputs": [
    {
     "name": "stdout",
     "output_type": "stream",
     "text": [
      "14.6 µs ± 110 ns per loop (mean ± std. dev. of 7 runs, 100,000 loops each)\n"
     ]
    }
   ],
   "source": [
    "%%timeit \n",
    "factorial.factorial_loop(200)"
   ]
  },
  {
   "cell_type": "code",
   "execution_count": 8,
   "metadata": {},
   "outputs": [
    {
     "name": "stdout",
     "output_type": "stream",
     "text": [
      "29.7 µs ± 762 ns per loop (mean ± std. dev. of 7 runs, 10,000 loops each)\n"
     ]
    }
   ],
   "source": [
    "%%timeit\n",
    "factorial.factorial_recursive(200)"
   ]
  },
  {
   "cell_type": "markdown",
   "metadata": {},
   "source": [
    "\n",
    "# Práce s řetězci:\n",
    "\n",
    "1. Použíjte funkce z minulého úkolu a v cyklu spočtěte faktoriál `n` pro hodnoty od 0 do 10. Pomocí f-strings vypište výsledky ve formátu \"n = 3, faktoriál = 6\" pro všechny hodnoty `n`.\n"
   ]
  },
  {
   "cell_type": "code",
   "execution_count": 9,
   "metadata": {},
   "outputs": [
    {
     "name": "stdout",
     "output_type": "stream",
     "text": [
      "n = 0, faktorial = 1\n",
      "n = 1, faktorial = 1\n",
      "n = 2, faktorial = 2\n",
      "n = 3, faktorial = 6\n",
      "n = 4, faktorial = 24\n",
      "n = 5, faktorial = 120\n",
      "n = 6, faktorial = 720\n",
      "n = 7, faktorial = 5040\n",
      "n = 8, faktorial = 40320\n",
      "n = 9, faktorial = 362880\n",
      "n = 10, faktorial = 3628800\n"
     ]
    }
   ],
   "source": [
    "for n in range(11):\n",
    "    faktorial = factorial.factorial_recursive(n)\n",
    "    print(f\"{n = }, {faktorial = }\")"
   ]
  },
  {
   "cell_type": "markdown",
   "metadata": {},
   "source": [
    "2. Vytvořte funkci `je_palindrom` která bude testovat, zda je zadaný řetězec palindrom. Funkce bude vracet `True` pokud je řetězec palindrom a `False` pokud není. Funkci otestujte na několika příkladech."
   ]
  },
  {
   "cell_type": "code",
   "execution_count": 18,
   "metadata": {},
   "outputs": [
    {
     "name": "stdout",
     "output_type": "stream",
     "text": [
      "False\n",
      "True\n",
      "True\n",
      "False\n"
     ]
    }
   ],
   "source": [
    "def je_palindrom(string):\n",
    "    reversed_str = string[::-1]\n",
    "    if reversed_str == string: \n",
    "        return True\n",
    "    else:\n",
    "        return False\n",
    "\n",
    "print( je_palindrom(\"ahoj\") )\n",
    "print( je_palindrom(\"lol\") )\n",
    "print( je_palindrom(\"level\") )\n",
    "print( je_palindrom(\"hello world\") )"
   ]
  },
  {
   "cell_type": "markdown",
   "metadata": {},
   "source": [
    "3. Do proměnné uložte větu \"Python je nejlepší programovací jazyk\". \n",
    "    - převeďtě na \"nadpis\" (velká počáteční písmena ve všech slovech)\n",
    "    - nahraďte všechny mezery pomlčkou"
   ]
  },
  {
   "cell_type": "code",
   "execution_count": 19,
   "metadata": {},
   "outputs": [
    {
     "name": "stdout",
     "output_type": "stream",
     "text": [
      "Python Je Nejlepsi Programovaci Jazyk\n",
      "Python-je-nejlepsi-programovaci-jazyk\n"
     ]
    }
   ],
   "source": [
    "sentence = \"Python je nejlepsi programovaci jazyk\"\n",
    "\n",
    "print( sentence.title() )\n",
    "print( sentence.replace(\" \", \"-\") )"
   ]
  },
  {
   "cell_type": "markdown",
   "metadata": {},
   "source": [
    "4. Pro stejný řetězec zjistěte, kolikrát se zde vyskytuje písmeno \"o\"."
   ]
  },
  {
   "cell_type": "code",
   "execution_count": 20,
   "metadata": {},
   "outputs": [
    {
     "name": "stdout",
     "output_type": "stream",
     "text": [
      "3\n"
     ]
    }
   ],
   "source": [
    "print( sentence.count(\"o\") )"
   ]
  },
  {
   "cell_type": "markdown",
   "metadata": {},
   "source": [
    "5. Převeďte řetězec z bodu 4 na list slov."
   ]
  },
  {
   "cell_type": "code",
   "execution_count": 21,
   "metadata": {},
   "outputs": [
    {
     "data": {
      "text/plain": [
       "['Python', 'je', 'nejlepsi', 'programovaci', 'jazyk']"
      ]
     },
     "execution_count": 21,
     "metadata": {},
     "output_type": "execute_result"
    }
   ],
   "source": [
    "sentence.split()"
   ]
  },
  {
   "cell_type": "markdown",
   "metadata": {},
   "source": [
    "\n",
    "# Generátory a iterátory:\n",
    "\n",
    "1. Napište generátor (funkci), který vytváří Fibonacciho posloupnost a postupně vrátí prvních $n$ členů. Otestujte pomocí for cyklu.\n"
   ]
  },
  {
   "cell_type": "code",
   "execution_count": 42,
   "metadata": {},
   "outputs": [
    {
     "name": "stdout",
     "output_type": "stream",
     "text": [
      "0\n",
      "1\n",
      "1\n",
      "2\n",
      "3\n",
      "5\n",
      "8\n",
      "13\n",
      "21\n",
      "34\n",
      "55\n"
     ]
    }
   ],
   "source": [
    "def fibonacci(n):\n",
    "    if n == 0:\n",
    "        yield 0\n",
    "    elif n == 1:\n",
    "        yield 1\n",
    "    else: \n",
    "        a, b = 0, 1\n",
    "        yield a\n",
    "        yield b\n",
    "        for i in range(2, n + 1):\n",
    "            a, b = b, a + b\n",
    "            yield b\n",
    "    \n",
    "fib = fibonacci(10)\n",
    "for i in fib:\n",
    "    print(i)"
   ]
  },
  {
   "cell_type": "markdown",
   "metadata": {},
   "source": [
    "2. Napište generátor výraz, který bude vracet všechny sudá čísla menší než 100. Otestujte pomocí for cyklu."
   ]
  },
  {
   "cell_type": "code",
   "execution_count": 46,
   "metadata": {},
   "outputs": [
    {
     "name": "stdout",
     "output_type": "stream",
     "text": [
      "0\n",
      "2\n",
      "4\n",
      "6\n",
      "8\n",
      "10\n",
      "12\n",
      "14\n",
      "16\n",
      "18\n",
      "20\n",
      "22\n",
      "24\n",
      "26\n",
      "28\n",
      "30\n",
      "32\n",
      "34\n",
      "36\n",
      "38\n",
      "40\n",
      "42\n",
      "44\n",
      "46\n",
      "48\n",
      "50\n",
      "52\n",
      "54\n",
      "56\n",
      "58\n",
      "60\n",
      "62\n",
      "64\n",
      "66\n",
      "68\n",
      "70\n",
      "72\n",
      "74\n",
      "76\n",
      "78\n",
      "80\n",
      "82\n",
      "84\n",
      "86\n",
      "88\n",
      "90\n",
      "92\n",
      "94\n",
      "96\n",
      "98\n",
      "Iteration finished.\n"
     ]
    }
   ],
   "source": [
    "gen_even = (i for i in range(100) if i % 2 == 0)\n",
    "\n",
    "try:\n",
    "    while True:\n",
    "        print( next(gen_even) )\n",
    "except StopIteration:\n",
    "    print(\"Iteration finished.\")"
   ]
  },
  {
   "cell_type": "markdown",
   "metadata": {},
   "source": [
    "3. Pro dané číslo `n` vytvořte generátor, který bude vracet True/False hodnoty, zda je dělitelné postupně čísly od `2` do `n-1`. Otestujte pro několik čísel, pomocí funkce `all()` přičemž by výsledný výraz měl fungovat jako test prvočíselnosti. "
   ]
  },
  {
   "cell_type": "code",
   "execution_count": 59,
   "metadata": {},
   "outputs": [
    {
     "name": "stdout",
     "output_type": "stream",
     "text": [
      "Number 1 is prime: False\n",
      "Number 2 is prime: True\n",
      "Number 3 is prime: True\n",
      "Number 4 is prime: False\n",
      "Number 4 is prime: False\n",
      "Number 5 is prime: True\n",
      "Number 60 is prime: False\n",
      "Number 97 is prime: True\n",
      "Number 1817 is prime: False\n"
     ]
    }
   ],
   "source": [
    "def is_prime(n):\n",
    "    if n == 1:\n",
    "        yield False\n",
    "    for i in range(2, n):\n",
    "        if n % i == 0:\n",
    "            yield False\n",
    "    yield True\n",
    "\n",
    "print(f\"Number 1 is prime: {all( is_prime(1) )}\")\n",
    "print(f\"Number 2 is prime: {all( is_prime(2) )}\")\n",
    "print(f\"Number 3 is prime: {all( is_prime(3) )}\")\n",
    "print(f\"Number 4 is prime: {all( is_prime(4) )}\")\n",
    "print(f\"Number 4 is prime: {all( is_prime(4) )}\")\n",
    "print(f\"Number 5 is prime: {all( is_prime(5) )}\")\n",
    "print(f\"Number 60 is prime: {all( is_prime(60) )}\")\n",
    "print(f\"Number 97 is prime: {all( is_prime(97) )}\")\n",
    "print(f\"Number 1817 is prime: {all( is_prime(1817) )}\")"
   ]
  },
  {
   "cell_type": "markdown",
   "metadata": {},
   "source": [
    "\n",
    "# List comprehension:\n",
    "1. Vytvořte seznam čísel od 1 do 10 pomocí list comprehension.\n"
   ]
  },
  {
   "cell_type": "code",
   "execution_count": 61,
   "metadata": {},
   "outputs": [
    {
     "name": "stdout",
     "output_type": "stream",
     "text": [
      "[1, 2, 3, 4, 5, 6, 7, 8, 9, 10]\n"
     ]
    }
   ],
   "source": [
    "nums = [i for i in range(1, 11)]\n",
    "\n",
    "print(nums)"
   ]
  },
  {
   "cell_type": "markdown",
   "metadata": {},
   "source": [
    "2. Vytvořte seznam druhých mocnin čísel od 1 do 10 pomocí list comprehension.\n"
   ]
  },
  {
   "cell_type": "code",
   "execution_count": 62,
   "metadata": {},
   "outputs": [
    {
     "name": "stdout",
     "output_type": "stream",
     "text": [
      "[1, 4, 9, 16, 25, 36, 49, 64, 81, 100]\n"
     ]
    }
   ],
   "source": [
    "squares = [i**2 for i in range(1, 11)]\n",
    "\n",
    "print(squares)"
   ]
  },
  {
   "cell_type": "markdown",
   "metadata": {},
   "source": [
    "3. Vytvořte seznam prvočísel od 1 do 100 pomocí list comprehension. Hint (použijte test prvočíselnosti z předchozích úloh).\n"
   ]
  },
  {
   "cell_type": "code",
   "execution_count": 66,
   "metadata": {},
   "outputs": [
    {
     "name": "stdout",
     "output_type": "stream",
     "text": [
      "[2, 3, 5, 7, 11, 13, 17, 19, 23, 29, 31, 37, 41, 43, 47, 53, 59, 61, 67, 71, 73, 79, 83, 89, 97]\n"
     ]
    }
   ],
   "source": [
    "primes = [i for i in range(1, 100) if all(is_prime(i))]\n",
    "\n",
    "print(primes)"
   ]
  },
  {
   "cell_type": "markdown",
   "metadata": {},
   "source": [
    "\n",
    "# Práce se soubory:\n",
    "1. Pomocí `%%writefile` vytvořte soubor s nějakým textem.\n"
   ]
  },
  {
   "cell_type": "code",
   "execution_count": 67,
   "metadata": {},
   "outputs": [
    {
     "name": "stdout",
     "output_type": "stream",
     "text": [
      "Writing something.txt\n"
     ]
    }
   ],
   "source": [
    "%%writefile something.txt\n",
    "\n",
    "Some random text.\n",
    "Another random line of text."
   ]
  },
  {
   "cell_type": "markdown",
   "metadata": {},
   "source": [
    "2. Otevřete soubor pro čtení a vypište jeho obsah.\n"
   ]
  },
  {
   "cell_type": "code",
   "execution_count": 69,
   "metadata": {},
   "outputs": [
    {
     "name": "stdout",
     "output_type": "stream",
     "text": [
      "\n",
      "\n",
      "Some random text.\n",
      "\n",
      "Another random line of text.\n",
      "\n"
     ]
    }
   ],
   "source": [
    "with open(\"something.txt\", \"r\") as file:\n",
    "    for line in file:\n",
    "        print(line)"
   ]
  },
  {
   "cell_type": "markdown",
   "metadata": {},
   "source": [
    "3. Otevřete jiný soubor pro zápis a napište do něj textový řetězec.\n"
   ]
  },
  {
   "cell_type": "code",
   "execution_count": 70,
   "metadata": {},
   "outputs": [],
   "source": [
    "with open(\"new_file.txt\", \"w\") as file2:\n",
    "    file2.write(\"Random text again and again...\")"
   ]
  },
  {
   "cell_type": "markdown",
   "metadata": {},
   "source": [
    "4. Pomocí f-strings zapište do souboru tabulku čísel od 1 do 10, jejich druhých mocnin a jejich druhých odmocnin."
   ]
  },
  {
   "cell_type": "code",
   "execution_count": 74,
   "metadata": {},
   "outputs": [],
   "source": [
    "import math\n",
    "with open(\"numbers.txt\", \"w\") as numbers:\n",
    "    for i in range(1, 11):\n",
    "        numbers.write(f\"{i:.<10} {i**2:.<10} {math.sqrt(i)}\\n\")"
   ]
  }
 ],
 "metadata": {
  "kernelspec": {
   "display_name": "Python 3",
   "language": "python",
   "name": "python3"
  },
  "language_info": {
   "codemirror_mode": {
    "name": "ipython",
    "version": 3
   },
   "file_extension": ".py",
   "mimetype": "text/x-python",
   "name": "python",
   "nbconvert_exporter": "python",
   "pygments_lexer": "ipython3",
   "version": "3.10.12"
  },
  "orig_nbformat": 4,
  "vscode": {
   "interpreter": {
    "hash": "e7370f93d1d0cde622a1f8e1c04877d8463912d04d973331ad4851f04de6915a"
   }
  }
 },
 "nbformat": 4,
 "nbformat_minor": 2
}
