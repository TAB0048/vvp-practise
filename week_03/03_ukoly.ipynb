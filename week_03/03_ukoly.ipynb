{
 "cells": [
  {
   "cell_type": "markdown",
   "metadata": {},
   "source": [
    "# Lambda funkce a řízení toku programu\n",
    "\n",
    "\n",
    "**1. Lambda funkce:**\n",
    "\n",
    "Napište lambda funkci, která spočítá součin dvou čísel.\n"
   ]
  },
  {
   "cell_type": "code",
   "execution_count": 1,
   "metadata": {},
   "outputs": [
    {
     "name": "stdout",
     "output_type": "stream",
     "text": [
      "0\n",
      "112\n",
      "-270\n"
     ]
    }
   ],
   "source": [
    "multiply = lambda x, y: x * y\n",
    "\n",
    "print(multiply(5, 0))\n",
    "print(multiply(16, 7))\n",
    "print(multiply(-6, 45))"
   ]
  },
  {
   "cell_type": "markdown",
   "metadata": {},
   "source": [
    "\n",
    "**2. Lambda funkce a ternární operátor:**\n",
    "\n",
    "Napište lambda funkci, která vrátí \"sudé\" pro sudá čísla a \"liché\" pro lichá čísla.\n"
   ]
  },
  {
   "cell_type": "code",
   "execution_count": 2,
   "metadata": {},
   "outputs": [
    {
     "name": "stdout",
     "output_type": "stream",
     "text": [
      "sude\n",
      "sude\n",
      "liche\n",
      "liche\n"
     ]
    }
   ],
   "source": [
    "parity = lambda x: \"sude\" if x % 2 == 0 else \"liche\"\n",
    "\n",
    "print(parity(0))\n",
    "print(parity(2))\n",
    "print(parity(157))\n",
    "print(parity(-13))"
   ]
  },
  {
   "cell_type": "markdown",
   "metadata": {},
   "source": [
    "\n",
    "**3. Rekurze:**\n",
    "\n",
    "Napište lambda funkci pro výpočet součtu 1 až n (n je vstupem).\n"
   ]
  },
  {
   "cell_type": "code",
   "execution_count": 3,
   "metadata": {},
   "outputs": [
    {
     "name": "stdout",
     "output_type": "stream",
     "text": [
      "15\n",
      "55\n",
      "14535\n",
      "1\n"
     ]
    }
   ],
   "source": [
    "sum_n = lambda n: 1 if n == 1 else n + sum_n(n - 1)\n",
    "\n",
    "print(sum_n(5))\n",
    "print(sum_n(10))\n",
    "print(sum_n(170))\n",
    "print(sum_n(1))"
   ]
  },
  {
   "cell_type": "markdown",
   "metadata": {},
   "source": [
    "\n",
    "**4. For cyklus, enumerate:**\n",
    "\n",
    "Vypište postupně všechna písmena řetězce \"Ahoj světe!\" a jejich pozici v řetězci.\n"
   ]
  },
  {
   "cell_type": "code",
   "execution_count": 4,
   "metadata": {},
   "outputs": [
    {
     "name": "stdout",
     "output_type": "stream",
     "text": [
      "0 A\n",
      "1 h\n",
      "2 o\n",
      "3 j\n",
      "4  \n",
      "5 s\n",
      "6 v\n",
      "7 e\n",
      "8 t\n",
      "9 e\n",
      "10 !\n"
     ]
    }
   ],
   "source": [
    "str = \"Ahoj svete!\"\n",
    "for idx, elem in enumerate(str):\n",
    "    print(idx, elem)"
   ]
  },
  {
   "cell_type": "markdown",
   "metadata": {},
   "source": [
    "\n",
    "**5. For cyklus s `break`:**\n",
    "\n",
    "Vypište první tři prvky seznamu `[1, 2, 3, 4, 5]`.\n"
   ]
  },
  {
   "cell_type": "code",
   "execution_count": 5,
   "metadata": {},
   "outputs": [
    {
     "name": "stdout",
     "output_type": "stream",
     "text": [
      "1\n",
      "2\n",
      "3\n"
     ]
    }
   ],
   "source": [
    "seznam = [1, 2, 3, 4, 5]\n",
    "for i in seznam:\n",
    "    print(i)\n",
    "    if i == 3:\n",
    "        break"
   ]
  },
  {
   "cell_type": "markdown",
   "metadata": {},
   "source": [
    "\n",
    "**6. For cyklus s `else`:**\n",
    "\n",
    "Vypište první tři prvky seznamu, pokud je seznam o délce 3 a kratší, vypište na závěr \"Krátký seznam!\".\n",
    "\n",
    "Vyzkoušejte na  `[1, 2, 3, 4, 5]` a `[1, 2]`.\n"
   ]
  },
  {
   "cell_type": "code",
   "execution_count": 6,
   "metadata": {},
   "outputs": [
    {
     "name": "stdout",
     "output_type": "stream",
     "text": [
      "1\n",
      "2\n",
      "3\n",
      "None\n",
      "1\n",
      "2\n",
      "Kratky seznam!\n",
      "None\n"
     ]
    }
   ],
   "source": [
    "def first_three(seznam):\n",
    "    for i in seznam:\n",
    "        print(i)\n",
    "        if i == 3:\n",
    "            break\n",
    "    else:\n",
    "        print(\"Kratky seznam!\")\n",
    "\n",
    "print(first_three([1, 2, 3, 4, 5]))\n",
    "print(first_three([1, 2]))"
   ]
  },
  {
   "cell_type": "markdown",
   "metadata": {},
   "source": [
    "\n",
    "**7. For cyklus s `continue`:**\n",
    "\n",
    "Vypište všechny sudá čísla ze seznamu `[1, 2, 3, 4, 5]`.\n"
   ]
  },
  {
   "cell_type": "code",
   "execution_count": 7,
   "metadata": {},
   "outputs": [
    {
     "name": "stdout",
     "output_type": "stream",
     "text": [
      "2\n",
      "4\n"
     ]
    }
   ],
   "source": [
    "seznam = [1, 2, 3, 4, 5]\n",
    "for i in seznam:\n",
    "    if i % 2 == 1:\n",
    "        continue\n",
    "    print(i)"
   ]
  },
  {
   "cell_type": "markdown",
   "metadata": {},
   "source": [
    "\n",
    "**8. Krátce k iterovatelným objektům:**\n",
    "\n",
    "Uveďte 5 příkladů iterovatelných objektů (např. `string`, `list`, ...). Pomocí for cyklu vypište všechny prvky každého objektu.\n"
   ]
  },
  {
   "cell_type": "code",
   "execution_count": 8,
   "metadata": {},
   "outputs": [
    {
     "name": "stdout",
     "output_type": "stream",
     "text": [
      "h e l l o   w o r l d "
     ]
    }
   ],
   "source": [
    "my_str = \"hello world\"\n",
    "\n",
    "for i in my_str: \n",
    "    print(i, end=\" \")"
   ]
  },
  {
   "cell_type": "code",
   "execution_count": 9,
   "metadata": {},
   "outputs": [
    {
     "name": "stdout",
     "output_type": "stream",
     "text": [
      "1 1 2 3 5 8 13 "
     ]
    }
   ],
   "source": [
    "my_list = [1, 1, 2, 3, 5, 8, 13]\n",
    "\n",
    "for i in my_list: \n",
    "    print(i, end=\" \")"
   ]
  },
  {
   "cell_type": "code",
   "execution_count": 10,
   "metadata": {},
   "outputs": [
    {
     "name": "stdout",
     "output_type": "stream",
     "text": [
      "x a 10 d 15 "
     ]
    }
   ],
   "source": [
    "my_set = {\"a\", \"x\", 10, \"d\", 15}\n",
    "\n",
    "for i in my_set: \n",
    "    print(i, end=\" \")"
   ]
  },
  {
   "cell_type": "code",
   "execution_count": 11,
   "metadata": {},
   "outputs": [
    {
     "name": "stdout",
     "output_type": "stream",
     "text": [
      "A B C 1 2 3 "
     ]
    }
   ],
   "source": [
    "my_tuple = (\"A\", \"B\", \"C\", 1, 2, 3)\n",
    "\n",
    "for i in my_tuple: \n",
    "    print(i, end=\" \")"
   ]
  },
  {
   "cell_type": "code",
   "execution_count": 12,
   "metadata": {},
   "outputs": [
    {
     "name": "stdout",
     "output_type": "stream",
     "text": [
      "-5 -3 -1 1 3 "
     ]
    }
   ],
   "source": [
    "for i in range(-5, 5, 2): \n",
    "    print(i, end=\" \")"
   ]
  },
  {
   "cell_type": "markdown",
   "metadata": {},
   "source": [
    "\n",
    "**9. Iterování přes slovník:**\n",
    "\n",
    "Pro slovník `{'a': 1, 'b': 2, 'c': 3}` vypište vždy na řádek klíč a hodnotu. (Použijte metodu `items`.)"
   ]
  },
  {
   "cell_type": "code",
   "execution_count": 13,
   "metadata": {},
   "outputs": [
    {
     "name": "stdout",
     "output_type": "stream",
     "text": [
      "('a', 1)\n",
      "('b', 2)\n",
      "('c', 3)\n"
     ]
    }
   ],
   "source": [
    "dictionary = {\"a\": 1, \"b\": 2, \"c\": 3}\n",
    "for item in dictionary.items():\n",
    "    print(item)"
   ]
  },
  {
   "cell_type": "markdown",
   "metadata": {},
   "source": [
    "\n",
    "**10. Zip:**\n",
    "\n",
    "Zabalte seznamy `[\"a\", \"b\", \"c\"]` a `[1, 2, 3]` do jednoho iterátoru pomocí funkce `zip` a vypište všechny dvojice.\n"
   ]
  },
  {
   "cell_type": "code",
   "execution_count": 14,
   "metadata": {},
   "outputs": [
    {
     "name": "stdout",
     "output_type": "stream",
     "text": [
      "('a', 1)\n",
      "('b', 2)\n",
      "('c', 3)\n"
     ]
    }
   ],
   "source": [
    "seznam1 = [\"a\", \"b\", \"c\"]\n",
    "seznam2 = [1, 2, 3]\n",
    "for i in zip(seznam1, seznam2):\n",
    "    print(i)"
   ]
  },
  {
   "cell_type": "markdown",
   "metadata": {},
   "source": [
    "\n",
    "**11. While cyklus:**\n",
    "\n",
    "Při počátečním vkladu 10000 Kč, roční úrokové sazbě 9 % (peníze vždy přibydou na konci roku) a ročním vkladu 1000 Kč (vkládáme vždy na začátku roku, počínaje hned prvním, tedy ze začátku dáme na účet 11000 Kč), kolik let bude trvat, než budeme mít na učtě milion Kč? "
   ]
  },
  {
   "cell_type": "code",
   "execution_count": 15,
   "metadata": {},
   "outputs": [
    {
     "name": "stdout",
     "output_type": "stream",
     "text": [
      "It will take 45 years.\n"
     ]
    }
   ],
   "source": [
    "init_deposit = 10000\n",
    "interest_rate = 0.09\n",
    "year_deposit = 1000\n",
    "\n",
    "account_balance = init_deposit\n",
    "years = 0\n",
    "\n",
    "while account_balance < 1_000_000:\n",
    "    account_balance += year_deposit\n",
    "    account_balance *= 1 + interest_rate\n",
    "    years += 1\n",
    "\n",
    "print(f\"It will take {years} years.\")\n"
   ]
  },
  {
   "cell_type": "markdown",
   "metadata": {},
   "source": [
    "\n",
    "# Generátory a iterátory:\n",
    "\n",
    "1. Napište generátor (funkci), který vytváří Fibonacciho posloupnost a postupně vrátí prvních $n$ členů. Otestujte pomocí for cyklu.\n"
   ]
  },
  {
   "cell_type": "code",
   "execution_count": 16,
   "metadata": {},
   "outputs": [
    {
     "name": "stdout",
     "output_type": "stream",
     "text": [
      "0\n",
      "1\n",
      "1\n",
      "2\n",
      "3\n",
      "5\n",
      "8\n",
      "13\n",
      "21\n",
      "34\n"
     ]
    }
   ],
   "source": [
    "def gen_fibonacci(n): \n",
    "    if n == 1:\n",
    "        yield 0\n",
    "    else:\n",
    "        a, b = 0, 1\n",
    "        yield a\n",
    "        yield b\n",
    "        for i in range(2, n  + 1):\n",
    "            a, b = b, a + b\n",
    "            yield b\n",
    "\n",
    "\n",
    "\n",
    "gen1 = gen_fibonacci(10)\n",
    "\n",
    "for i in range(10):\n",
    "    print(next(gen1))"
   ]
  },
  {
   "cell_type": "markdown",
   "metadata": {},
   "source": [
    "2. Napište generátor výraz, který bude vracet všechny sudá čísla menší než 100. Otestujte pomocí for cyklu."
   ]
  },
  {
   "cell_type": "code",
   "execution_count": 17,
   "metadata": {},
   "outputs": [
    {
     "name": "stdout",
     "output_type": "stream",
     "text": [
      "0\n",
      "2\n",
      "4\n",
      "6\n",
      "8\n",
      "10\n",
      "12\n",
      "14\n",
      "16\n",
      "18\n",
      "20\n",
      "22\n",
      "24\n",
      "26\n",
      "28\n",
      "30\n",
      "32\n",
      "34\n",
      "36\n",
      "38\n",
      "40\n",
      "42\n",
      "44\n",
      "46\n",
      "48\n",
      "50\n",
      "52\n",
      "54\n",
      "56\n",
      "58\n",
      "60\n",
      "62\n",
      "64\n",
      "66\n",
      "68\n",
      "70\n",
      "72\n",
      "74\n",
      "76\n",
      "78\n",
      "80\n",
      "82\n",
      "84\n",
      "86\n",
      "88\n",
      "90\n",
      "92\n",
      "94\n",
      "96\n",
      "98\n",
      "Generation done.\n"
     ]
    }
   ],
   "source": [
    "gen_even = (i for i in range(100) if i % 2 == 0)\n",
    "\n",
    "for i in range(100):\n",
    "    try:\n",
    "        print(next(gen_even))\n",
    "    except StopIteration:\n",
    "        print(\"Generation done.\")\n",
    "        break"
   ]
  },
  {
   "cell_type": "markdown",
   "metadata": {},
   "source": [
    "3. Pro dané číslo `n` vytvořte generátor, který bude vracet True/False hodnoty, zda je dělitelné postupně čísly od `2` do `n-1`. Otestujte pro několik čísel, pomocí funkce `all()` přičemž by výsledný výraz měl fungovat jako test prvočíselnosti. "
   ]
  },
  {
   "cell_type": "code",
   "execution_count": 18,
   "metadata": {},
   "outputs": [
    {
     "name": "stdout",
     "output_type": "stream",
     "text": [
      "1 is not a prime.\n",
      "2 is a prime.\n",
      "4 is not a prime.\n",
      "5 is a prime.\n",
      "20 is not a prime.\n",
      "23 is a prime.\n",
      "28 is not a prime.\n",
      "31 is a prime.\n"
     ]
    }
   ],
   "source": [
    "def is_prime(n):\n",
    "    if n == 1:\n",
    "        yield False\n",
    "    for i in range(2, n):\n",
    "        yield n % i != 0\n",
    "\n",
    "nums = [1, 2, 4, 5, 20, 23, 28, 31]\n",
    "\n",
    "for num in nums:\n",
    "    if all(is_prime(num)):\n",
    "        print(f\"{num} is a prime.\")\n",
    "    else:\n",
    "        print(f\"{num} is not a prime.\")\n"
   ]
  },
  {
   "cell_type": "markdown",
   "metadata": {},
   "source": [
    "\n",
    "# List comprehension:\n",
    "1. Vytvořte seznam čísel od 1 do 10 pomocí list comprehension.\n"
   ]
  },
  {
   "cell_type": "code",
   "execution_count": 19,
   "metadata": {},
   "outputs": [
    {
     "name": "stdout",
     "output_type": "stream",
     "text": [
      "[1, 2, 3, 4, 5, 6, 7, 8, 9, 10]\n"
     ]
    }
   ],
   "source": [
    "seznam = [i for i in range(1, 11)]\n",
    "print(seznam)"
   ]
  },
  {
   "cell_type": "markdown",
   "metadata": {},
   "source": [
    "2. Vytvořte seznam druhých mocnin čísel od 1 do 10 pomocí list comprehension.\n"
   ]
  },
  {
   "cell_type": "code",
   "execution_count": 20,
   "metadata": {},
   "outputs": [
    {
     "name": "stdout",
     "output_type": "stream",
     "text": [
      "[1, 4, 9, 16, 25, 36, 49, 64, 81, 100]\n"
     ]
    }
   ],
   "source": [
    "seznam = [i**2 for i in range(1, 11)]\n",
    "print(seznam)"
   ]
  },
  {
   "cell_type": "markdown",
   "metadata": {},
   "source": [
    "3. Vytvořte seznam prvočísel od 1 do 100 pomocí list comprehension. Hint (použijte test prvočíselnosti z předchozích úloh).\n"
   ]
  },
  {
   "cell_type": "code",
   "execution_count": 21,
   "metadata": {},
   "outputs": [
    {
     "name": "stdout",
     "output_type": "stream",
     "text": [
      "[2, 3, 5, 7, 11, 13, 17, 19, 23, 29, 31, 37, 41, 43, 47, 53, 59, 61, 67, 71, 73, 79, 83, 89, 97]\n"
     ]
    }
   ],
   "source": [
    "primes = [i for i in range(1, 100) if all(is_prime(i))]\n",
    "print(primes)"
   ]
  },
  {
   "cell_type": "markdown",
   "metadata": {},
   "source": [
    "\n",
    "# Jupyter magics:\n",
    "1. Použijte funkci `%%writefile` a pomocí ní vytvořte .py soubor sloužící jako modul mající dvě funkce:\n",
    "\n",
    "```python\n",
    "def factorial_loop(n):\n",
    "    result = 1\n",
    "    for i in range(1, n + 1):\n",
    "        result *= i\n",
    "    return result\n",
    "\n",
    "def factorial_recursive(n):\n",
    "    if n == 1:\n",
    "        return 1\n",
    "    else:\n",
    "        return n * factorial_recursive(n - 1)\n",
    "```\n",
    "\n",
    "Modul pojmenujte `factorial.py`. Zkuste jej načíst a zavolat obě funkce."
   ]
  },
  {
   "cell_type": "code",
   "execution_count": 22,
   "metadata": {},
   "outputs": [
    {
     "name": "stdout",
     "output_type": "stream",
     "text": [
      "Overwriting factorial.py\n"
     ]
    }
   ],
   "source": [
    "%%writefile factorial.py\n",
    "def factorial_loop(n):\n",
    "    result = 1\n",
    "    for i in range(1, n + 1):\n",
    "        result *= i\n",
    "    return result\n",
    "\n",
    "def factorial_recursive(n):\n",
    "    if n == 1 or n == 0:\n",
    "        return 1\n",
    "    else:\n",
    "        return n * factorial_recursive(n - 1)"
   ]
  },
  {
   "cell_type": "code",
   "execution_count": 23,
   "metadata": {},
   "outputs": [
    {
     "name": "stdout",
     "output_type": "stream",
     "text": [
      "\u001b[0;32mdef\u001b[0m \u001b[0mfactorial_loop\u001b[0m\u001b[0;34m(\u001b[0m\u001b[0mn\u001b[0m\u001b[0;34m)\u001b[0m\u001b[0;34m:\u001b[0m\u001b[0;34m\u001b[0m\n",
      "\u001b[0;34m\u001b[0m    \u001b[0mresult\u001b[0m \u001b[0;34m=\u001b[0m \u001b[0;36m1\u001b[0m\u001b[0;34m\u001b[0m\n",
      "\u001b[0;34m\u001b[0m    \u001b[0;32mfor\u001b[0m \u001b[0mi\u001b[0m \u001b[0;32min\u001b[0m \u001b[0mrange\u001b[0m\u001b[0;34m(\u001b[0m\u001b[0;36m1\u001b[0m\u001b[0;34m,\u001b[0m \u001b[0mn\u001b[0m \u001b[0;34m+\u001b[0m \u001b[0;36m1\u001b[0m\u001b[0;34m)\u001b[0m\u001b[0;34m:\u001b[0m\u001b[0;34m\u001b[0m\n",
      "\u001b[0;34m\u001b[0m        \u001b[0mresult\u001b[0m \u001b[0;34m*=\u001b[0m \u001b[0mi\u001b[0m\u001b[0;34m\u001b[0m\n",
      "\u001b[0;34m\u001b[0m    \u001b[0;32mreturn\u001b[0m \u001b[0mresult\u001b[0m\u001b[0;34m\u001b[0m\n",
      "\u001b[0;34m\u001b[0m\u001b[0;34m\u001b[0m\n",
      "\u001b[0;34m\u001b[0m\u001b[0;32mdef\u001b[0m \u001b[0mfactorial_recursive\u001b[0m\u001b[0;34m(\u001b[0m\u001b[0mn\u001b[0m\u001b[0;34m)\u001b[0m\u001b[0;34m:\u001b[0m\u001b[0;34m\u001b[0m\n",
      "\u001b[0;34m\u001b[0m    \u001b[0;32mif\u001b[0m \u001b[0mn\u001b[0m \u001b[0;34m==\u001b[0m \u001b[0;36m1\u001b[0m \u001b[0;32mor\u001b[0m \u001b[0mn\u001b[0m \u001b[0;34m==\u001b[0m \u001b[0;36m0\u001b[0m\u001b[0;34m:\u001b[0m\u001b[0;34m\u001b[0m\n",
      "\u001b[0;34m\u001b[0m        \u001b[0;32mreturn\u001b[0m \u001b[0;36m1\u001b[0m\u001b[0;34m\u001b[0m\n",
      "\u001b[0;34m\u001b[0m    \u001b[0;32melse\u001b[0m\u001b[0;34m:\u001b[0m\u001b[0;34m\u001b[0m\n",
      "\u001b[0;34m\u001b[0m        \u001b[0;32mreturn\u001b[0m \u001b[0mn\u001b[0m \u001b[0;34m*\u001b[0m \u001b[0mfactorial_recursive\u001b[0m\u001b[0;34m(\u001b[0m\u001b[0mn\u001b[0m \u001b[0;34m-\u001b[0m \u001b[0;36m1\u001b[0m\u001b[0;34m)\u001b[0m\u001b[0;34m\u001b[0m\u001b[0;34m\u001b[0m\u001b[0m\n"
     ]
    }
   ],
   "source": [
    "%less factorial.py"
   ]
  },
  {
   "cell_type": "code",
   "execution_count": 24,
   "metadata": {},
   "outputs": [
    {
     "name": "stdout",
     "output_type": "stream",
     "text": [
      "120\n",
      "120\n"
     ]
    }
   ],
   "source": [
    "%run factorial.py\n",
    "\n",
    "print(factorial_loop(5))\n",
    "print(factorial_recursive(5))"
   ]
  },
  {
   "cell_type": "markdown",
   "metadata": {},
   "source": [
    "2. Použijte magic příkazy `%time %timeit %%time` a `%%timeit` k měření času běhu dvou variant výpočtu faktroriálu (např. pro `n=200`).\n"
   ]
  },
  {
   "cell_type": "code",
   "execution_count": 25,
   "metadata": {},
   "outputs": [
    {
     "name": "stdout",
     "output_type": "stream",
     "text": [
      "CPU times: user 22 µs, sys: 3 µs, total: 25 µs\n",
      "Wall time: 28.4 µs\n",
      "CPU times: user 114 µs, sys: 0 ns, total: 114 µs\n",
      "Wall time: 117 µs\n",
      "15.4 µs ± 521 ns per loop (mean ± std. dev. of 7 runs, 100,000 loops each)\n",
      "35.2 µs ± 839 ns per loop (mean ± std. dev. of 7 runs, 10,000 loops each)\n"
     ]
    }
   ],
   "source": [
    "%time factorial_loop(200)\n",
    "%time factorial_recursive(200)\n",
    "\n",
    "%timeit factorial_loop(200)\n",
    "%timeit factorial_recursive(200)"
   ]
  },
  {
   "cell_type": "code",
   "execution_count": 26,
   "metadata": {},
   "outputs": [
    {
     "name": "stdout",
     "output_type": "stream",
     "text": [
      "CPU times: user 31 µs, sys: 0 ns, total: 31 µs\n",
      "Wall time: 33.9 µs\n"
     ]
    },
    {
     "data": {
      "text/plain": [
       "788657867364790503552363213932185062295135977687173263294742533244359449963403342920304284011984623904177212138919638830257642790242637105061926624952829931113462857270763317237396988943922445621451664240254033291864131227428294853277524242407573903240321257405579568660226031904170324062351700858796178922222789623703897374720000000000000000000000000000000000000000000000000"
      ]
     },
     "execution_count": 26,
     "metadata": {},
     "output_type": "execute_result"
    }
   ],
   "source": [
    "%%time\n",
    "factorial_loop(200)"
   ]
  },
  {
   "cell_type": "code",
   "execution_count": 27,
   "metadata": {},
   "outputs": [
    {
     "name": "stdout",
     "output_type": "stream",
     "text": [
      "CPU times: user 82 µs, sys: 1 µs, total: 83 µs\n",
      "Wall time: 86.1 µs\n"
     ]
    },
    {
     "data": {
      "text/plain": [
       "788657867364790503552363213932185062295135977687173263294742533244359449963403342920304284011984623904177212138919638830257642790242637105061926624952829931113462857270763317237396988943922445621451664240254033291864131227428294853277524242407573903240321257405579568660226031904170324062351700858796178922222789623703897374720000000000000000000000000000000000000000000000000"
      ]
     },
     "execution_count": 27,
     "metadata": {},
     "output_type": "execute_result"
    }
   ],
   "source": [
    "%%time\n",
    "factorial_recursive(200)"
   ]
  },
  {
   "cell_type": "code",
   "execution_count": 28,
   "metadata": {},
   "outputs": [
    {
     "name": "stdout",
     "output_type": "stream",
     "text": [
      "15 µs ± 308 ns per loop (mean ± std. dev. of 7 runs, 100,000 loops each)\n"
     ]
    }
   ],
   "source": [
    "%%timeit\n",
    "factorial_loop(200)"
   ]
  },
  {
   "cell_type": "code",
   "execution_count": 29,
   "metadata": {},
   "outputs": [
    {
     "name": "stdout",
     "output_type": "stream",
     "text": [
      "34.1 µs ± 373 ns per loop (mean ± std. dev. of 7 runs, 10,000 loops each)\n"
     ]
    }
   ],
   "source": [
    "%%timeit\n",
    "factorial_recursive(200)"
   ]
  },
  {
   "cell_type": "markdown",
   "metadata": {},
   "source": [
    "\n",
    "# Práce s řetězci:\n",
    "\n",
    "1. Použíjte funkce z minulého úkolu a v cyklu spočtěte faktoriál `n` pro hodnoty od 0 do 10. Pomocí f-strings vypište výsledky ve formátu \"n = 3, faktoriál = 6\" pro všechny hodnoty `n`.\n"
   ]
  },
  {
   "cell_type": "code",
   "execution_count": 30,
   "metadata": {},
   "outputs": [
    {
     "name": "stdout",
     "output_type": "stream",
     "text": [
      "n = 0, faktorial = 1\n",
      "n = 1, faktorial = 1\n",
      "n = 2, faktorial = 2\n",
      "n = 3, faktorial = 6\n",
      "n = 4, faktorial = 24\n",
      "n = 5, faktorial = 120\n",
      "n = 6, faktorial = 720\n",
      "n = 7, faktorial = 5040\n",
      "n = 8, faktorial = 40320\n",
      "n = 9, faktorial = 362880\n",
      "n = 10, faktorial = 3628800\n"
     ]
    }
   ],
   "source": [
    "for n in range(11):\n",
    "    print(f\"{n = }, faktorial = {factorial_recursive(n)}\")"
   ]
  },
  {
   "cell_type": "markdown",
   "metadata": {},
   "source": [
    "2. Vytvořte funkci `je_palindrom` která bude testovat, zda je zadaný řetězec palindrom. Funkce bude vracet `True` pokud je řetězec palindrom a `False` pokud není. Funkci otestujte na několika příkladech."
   ]
  },
  {
   "cell_type": "code",
   "execution_count": 31,
   "metadata": {},
   "outputs": [
    {
     "name": "stdout",
     "output_type": "stream",
     "text": [
      "False\n",
      "True\n",
      "True\n"
     ]
    }
   ],
   "source": [
    "def je_palindrom(string):\n",
    "    string_rev = string[::-1]\n",
    "    if (string == string_rev):\n",
    "        return True\n",
    "    else:\n",
    "        return False\n",
    "    \n",
    "print(je_palindrom(\"ahoj\"))\n",
    "print(je_palindrom(\"lol\"))\n",
    "print(je_palindrom(\"racecar\"))"
   ]
  },
  {
   "cell_type": "markdown",
   "metadata": {},
   "source": [
    "3. Do proměnné uložte větu \"Python je nejlepší programovací jazyk\". \n",
    "    - převeďtě na \"nadpis\" (velká počáteční písmena ve všech slovech)\n",
    "    - nahraďte všechny mezery pomlčkou"
   ]
  },
  {
   "cell_type": "code",
   "execution_count": 32,
   "metadata": {},
   "outputs": [
    {
     "name": "stdout",
     "output_type": "stream",
     "text": [
      "Python Je Nejlepší Programovací Jazyk\n",
      "Python-je-nejlepší-programovací-jazyk\n"
     ]
    }
   ],
   "source": [
    "text = \"Python je nejlepší programovací jazyk\"\n",
    "print(text.title())\n",
    "print(text.replace(\" \", \"-\"))"
   ]
  },
  {
   "cell_type": "markdown",
   "metadata": {},
   "source": [
    "4. Pro stejný řetězec zjistěte, kolikrát se zde vyskytuje písmeno \"o\"."
   ]
  },
  {
   "cell_type": "code",
   "execution_count": 33,
   "metadata": {},
   "outputs": [
    {
     "name": "stdout",
     "output_type": "stream",
     "text": [
      "3\n"
     ]
    }
   ],
   "source": [
    "print(text.count(\"o\"))"
   ]
  },
  {
   "cell_type": "markdown",
   "metadata": {},
   "source": [
    "5. Převeďte řetězec z bodu 4 na list slov."
   ]
  },
  {
   "cell_type": "code",
   "execution_count": 34,
   "metadata": {},
   "outputs": [
    {
     "name": "stdout",
     "output_type": "stream",
     "text": [
      "['Python', 'je', 'nejlepší', 'programovací', 'jazyk']\n"
     ]
    }
   ],
   "source": [
    "list_text = text.split()\n",
    "print(list_text)"
   ]
  },
  {
   "cell_type": "markdown",
   "metadata": {},
   "source": [
    "\n",
    "# Práce se soubory:\n",
    "1. Pomocí `%%writefile` vytvořte soubor s nějakým textem.\n"
   ]
  },
  {
   "cell_type": "code",
   "execution_count": 35,
   "metadata": {},
   "outputs": [
    {
     "name": "stdout",
     "output_type": "stream",
     "text": [
      "Overwriting soubor.txt\n"
     ]
    }
   ],
   "source": [
    "%%writefile soubor.txt\n",
    "Ahoj svete!\n",
    "Hello VVP..."
   ]
  },
  {
   "cell_type": "markdown",
   "metadata": {},
   "source": [
    "2. Otevřete soubor pro čtení a vypište jeho obsah.\n"
   ]
  },
  {
   "cell_type": "code",
   "execution_count": 36,
   "metadata": {},
   "outputs": [
    {
     "name": "stdout",
     "output_type": "stream",
     "text": [
      "Ahoj svete!\n",
      "Hello VVP...\n",
      "\n"
     ]
    }
   ],
   "source": [
    "with open(\"soubor.txt\", \"r\") as file: \n",
    "    print(file.read())"
   ]
  },
  {
   "cell_type": "markdown",
   "metadata": {},
   "source": [
    "3. Otevřete jiný soubor pro zápis a napište do něj textový řetězec.\n"
   ]
  },
  {
   "cell_type": "code",
   "execution_count": 37,
   "metadata": {},
   "outputs": [],
   "source": [
    "with open(\"new.txt\", \"w\") as file:\n",
    "    file.write(\"Something...\")"
   ]
  },
  {
   "cell_type": "markdown",
   "metadata": {},
   "source": [
    "4. Pomocí f-strings zapište do souboru tabulku čísel od 1 do 10, jejich druhých mocnin a jejich druhých odmocnin."
   ]
  },
  {
   "cell_type": "code",
   "execution_count": 38,
   "metadata": {},
   "outputs": [],
   "source": [
    "import math\n",
    "\n",
    "with open(\"power.txt\", \"w\") as file:\n",
    "    for i in range(1, 10):\n",
    "        file.write(f\"{i:<4} {i**2:<4} {math.sqrt(i):<4.8f}\\n\")"
   ]
  }
 ],
 "metadata": {
  "kernelspec": {
   "display_name": "Python 3",
   "language": "python",
   "name": "python3"
  },
  "language_info": {
   "codemirror_mode": {
    "name": "ipython",
    "version": 3
   },
   "file_extension": ".py",
   "mimetype": "text/x-python",
   "name": "python",
   "nbconvert_exporter": "python",
   "pygments_lexer": "ipython3",
   "version": "3.10.12"
  },
  "orig_nbformat": 4,
  "vscode": {
   "interpreter": {
    "hash": "e7370f93d1d0cde622a1f8e1c04877d8463912d04d973331ad4851f04de6915a"
   }
  }
 },
 "nbformat": 4,
 "nbformat_minor": 2
}
